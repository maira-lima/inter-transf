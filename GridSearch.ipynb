{
 "cells": [
  {
   "cell_type": "code",
   "execution_count": 1,
   "metadata": {
    "collapsed": true,
    "scrolled": true
   },
   "outputs": [],
   "source": [
    "import pickle\n",
    "from os import listdir\n",
    "import warnings\n",
    "warnings.filterwarnings('ignore') # nao quero warning de convergência\n",
    "\n",
    "import numpy as np\n",
    "import pandas as pd\n",
    "\n",
    "from sklearn.model_selection import GridSearchCV\n",
    "from sklearn.preprocessing import StandardScaler\n",
    "\n",
    "from sklearn.linear_model import LinearRegression, RidgeCV, LassoCV, LassoLarsCV, ElasticNetCV\n",
    "from sklearn.ensemble import GradientBoostingRegressor\n",
    "from sklearn.neural_network import MLPRegressor"
   ]
  },
  {
   "cell_type": "code",
   "execution_count": 2,
   "metadata": {
    "scrolled": true
   },
   "outputs": [
    {
     "name": "stdout",
     "output_type": "stream",
     "text": [
      "{'yacht', 'airfoil', 'energyHeating', 'wineRed', 'towerData', 'concrete', 'energyCooling', 'ppb', 'wineWhite', 'cpu', 'bioavailability', 'forestfires'}\n",
      "yacht\n",
      "airfoil\n",
      "energyHeating\n",
      "wineRed\n",
      "towerData\n",
      "concrete\n",
      "energyCooling\n",
      "ppb\n",
      "wineWhite\n",
      "cpu\n",
      "bioavailability\n",
      "forestfires\n"
     ]
    }
   ],
   "source": [
    "# set dos nomes do diretório\n",
    "fnames = {f.split('-train')[0].split('-test')[0] for f in listdir(path='./datasets') if 'ipynb' not in f and 'keijzer' not in f}\n",
    "print(fnames)\n",
    "\n",
    "folds  = list(range(5))\n",
    "algoritmos = {'Ridge':RidgeCV,'Lasso':LassoCV,'Lars':LassoLarsCV,'ElasticNet':ElasticNetCV,\n",
    "              'XGBoost':GradientBoostingRegressor,'MLP':MLPRegressor}\n",
    "\n",
    "paramsXG = {'n_estimators': (10, 50, 100), 'max_depth': (2, 3, 4), \n",
    "          'learning_rate': (0.01, 0.1, 1)}\n",
    "\n",
    "paramsMLP = {'hidden_layer_sizes': ( (50,), (100,), (500,), (50,50,), (100,50,) ), \n",
    "             'activation':('tanh', 'relu')}\n",
    "\n",
    "# listas com o que queremos comparar\n",
    "dataset   = []\n",
    "algoritmo = []\n",
    "rmse_l    = []\n",
    "\n",
    "for D in fnames:\n",
    "    print(D)\n",
    "    for algname, model_fn in algoritmos.items():\n",
    "        rmse = 0.0\n",
    "        for fold in folds:\n",
    "            X_train = np.loadtxt(f'datasets/{D}-train-{fold}.dat', delimiter=',')\n",
    "            X_test  = np.loadtxt(f'datasets/{D}-test-{fold}.dat', delimiter=',')\n",
    "            \n",
    "            X_train, y_train = X_train[:, :-1], X_train[:,-1]\n",
    "            X_test, y_test   = X_test[:, :-1], X_test[:,-1]\n",
    "            \n",
    "            if algname == 'XGBoost':\n",
    "                reg = model_fn()\n",
    "                model = GridSearchCV(reg, paramsXG)\n",
    "            elif algname == 'MLP':\n",
    "                scaler = StandardScaler()\n",
    "                scaler.fit(X_train)\n",
    "                X_train = scaler.transform(X_train)\n",
    "                X_test  = scaler.transform(X_test)\n",
    "                reg = model_fn()\n",
    "                model = GridSearchCV(reg, paramsMLP)\n",
    "            else:\n",
    "                model = model_fn()\n",
    "\n",
    "            model.fit(X_train, y_train)                \n",
    "            y_hat = model.predict(X_test)\n",
    "            rmse += np.sqrt(np.square(y_hat - y_test).mean())\n",
    "        rmse /= 5.0\n",
    "        dataset.append(D)\n",
    "        algoritmo.append(algname)\n",
    "        rmse_l.append(rmse)"
   ]
  },
  {
   "cell_type": "code",
   "execution_count": 9,
   "metadata": {
    "collapsed": true,
    "scrolled": true
   },
   "outputs": [],
   "source": [
    "data = {'dataset':dataset, 'algoritmo':algoritmo, 'rmse':rmse_l}\n",
    "df = pd.DataFrame(data)"
   ]
  },
  {
   "cell_type": "code",
   "execution_count": 13,
   "metadata": {
    "collapsed": true,
    "scrolled": true
   },
   "outputs": [],
   "source": [
    "# salvar o df no arquivo\n",
    "fw = open('df_GS.pkl', 'wb')\n",
    "pickle.dump(df, fw)\n",
    "fw.close()"
   ]
  },
  {
   "cell_type": "code",
   "execution_count": null,
   "metadata": {
    "scrolled": false
   },
   "outputs": [],
   "source": [
    "# carregar o df do arquivo (pra não ter q rodar as células acima novamente)\n",
    "fw = open('df_GS.pkl', 'rb')\n",
    "df = pickle.load(fw)\n",
    "fw.close()"
   ]
  },
  {
   "cell_type": "code",
   "execution_count": 12,
   "metadata": {
    "scrolled": false
   },
   "outputs": [
    {
     "name": "stdout",
     "output_type": "stream",
     "text": [
      "\n",
      " yacht\n",
      "    algoritmo dataset      rmse\n",
      "0       Ridge   yacht  8.996498\n",
      "1       Lasso   yacht  8.972195\n",
      "2        Lars   yacht  8.983248\n",
      "3  ElasticNet   yacht  9.067633\n",
      "4     XGBoost   yacht  0.868652\n",
      "5         MLP   yacht  3.330309\n",
      "\n",
      " airfoil\n",
      "     algoritmo  dataset      rmse\n",
      "6        Ridge  airfoil  4.862221\n",
      "7        Lasso  airfoil  6.142515\n",
      "8         Lars  airfoil  4.819300\n",
      "9   ElasticNet  airfoil  6.169792\n",
      "10     XGBoost  airfoil  2.186777\n",
      "11         MLP  airfoil  4.836487\n",
      "\n",
      " energyHeating\n",
      "     algoritmo        dataset      rmse\n",
      "12       Ridge  energyHeating  2.970699\n",
      "13       Lasso  energyHeating  4.235185\n",
      "14        Lars  energyHeating  2.942069\n",
      "15  ElasticNet  energyHeating  4.502519\n",
      "16     XGBoost  energyHeating  0.382823\n",
      "17         MLP  energyHeating  2.842564\n",
      "\n",
      " wineRed\n",
      "     algoritmo  dataset      rmse\n",
      "18       Ridge  wineRed  0.650684\n",
      "19       Lasso  wineRed  0.656002\n",
      "20        Lars  wineRed  0.650573\n",
      "21  ElasticNet  wineRed  0.657719\n",
      "22     XGBoost  wineRed  0.607601\n",
      "23         MLP  wineRed  0.639847\n",
      "\n",
      " towerData\n",
      "     algoritmo    dataset       rmse\n",
      "24       Ridge  towerData  30.615898\n",
      "25       Lasso  towerData  33.934021\n",
      "26        Lars  towerData  30.831966\n",
      "27  ElasticNet  towerData  43.741643\n",
      "28     XGBoost  towerData  18.004140\n",
      "29         MLP  towerData  18.624850\n",
      "\n",
      " concrete\n",
      "     algoritmo   dataset       rmse\n",
      "30       Ridge  concrete  10.444737\n",
      "31       Lasso  concrete  10.446343\n",
      "32        Lars  concrete  10.443756\n",
      "33  ElasticNet  concrete  10.446860\n",
      "34     XGBoost  concrete   4.758625\n",
      "35         MLP  concrete   7.686262\n",
      "\n",
      " energyCooling\n",
      "     algoritmo        dataset      rmse\n",
      "36       Ridge  energyCooling  3.246569\n",
      "37       Lasso  energyCooling  4.082975\n",
      "38        Lars  energyCooling  3.214723\n",
      "39  ElasticNet  energyCooling  4.405209\n",
      "40     XGBoost  energyCooling  0.813120\n",
      "41         MLP  energyCooling  3.254128\n",
      "\n",
      " ppb\n",
      "     algoritmo dataset        rmse\n",
      "42       Ridge     ppb  111.532481\n",
      "43       Lasso     ppb   30.400510\n",
      "44        Lars     ppb   28.372001\n",
      "45  ElasticNet     ppb   30.404394\n",
      "46     XGBoost     ppb   29.359208\n",
      "47         MLP     ppb  755.569607\n",
      "\n",
      " wineWhite\n",
      "     algoritmo    dataset      rmse\n",
      "48       Ridge  wineWhite  0.757535\n",
      "49       Lasso  wineWhite  0.762450\n",
      "50        Lars  wineWhite  0.755358\n",
      "51  ElasticNet  wineWhite  0.768779\n",
      "52     XGBoost  wineWhite  0.676050\n",
      "53         MLP  wineWhite  0.696778\n",
      "\n",
      " cpu\n",
      "     algoritmo dataset       rmse\n",
      "54       Ridge     cpu  34.904959\n",
      "55       Lasso     cpu  42.059112\n",
      "56        Lars     cpu  34.546549\n",
      "57  ElasticNet     cpu  45.780305\n",
      "58     XGBoost     cpu  54.618222\n",
      "59         MLP     cpu  45.266289\n",
      "\n",
      " bioavailability\n",
      "     algoritmo          dataset       rmse\n",
      "60       Ridge  bioavailability  33.196678\n",
      "61       Lasso  bioavailability  30.793337\n",
      "62        Lars  bioavailability  30.559288\n",
      "63  ElasticNet  bioavailability  30.785249\n",
      "64     XGBoost  bioavailability  28.864254\n",
      "65         MLP  bioavailability  32.004278\n",
      "\n",
      " forestfires\n",
      "     algoritmo      dataset       rmse\n",
      "66       Ridge  forestfires  53.223923\n",
      "67       Lasso  forestfires  51.769355\n",
      "68        Lars  forestfires  52.100889\n",
      "69  ElasticNet  forestfires  51.774782\n",
      "70     XGBoost  forestfires  52.130001\n",
      "71         MLP  forestfires  51.891354\n"
     ]
    }
   ],
   "source": [
    "for D in fnames:\n",
    "    print('\\n', D)\n",
    "    print(df.loc[df['dataset'] == D])"
   ]
  },
  {
   "cell_type": "code",
   "execution_count": null,
   "metadata": {
    "collapsed": true,
    "scrolled": true
   },
   "outputs": [],
   "source": []
  }
 ],
 "metadata": {
  "kernelspec": {
   "display_name": "Python 3",
   "language": "python",
   "name": "python3"
  },
  "language_info": {
   "codemirror_mode": {
    "name": "ipython",
    "version": 3
   },
   "file_extension": ".py",
   "mimetype": "text/x-python",
   "name": "python",
   "nbconvert_exporter": "python",
   "pygments_lexer": "ipython3",
   "version": "3.6.4"
  }
 },
 "nbformat": 4,
 "nbformat_minor": 2
}
