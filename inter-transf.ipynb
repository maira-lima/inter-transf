{
 "cells": [
  {
   "cell_type": "raw",
   "metadata": {
    "raw_mimetype": "text/x-python"
   },
   "source": [
    "#!/usr/bin/env python\n",
    "# inter_transf.py\n",
    "# Author/Professor: Fabrício Olivetti de França\n",
    "# Author/Student: Maira Zabuscha de Lima"
   ]
  },
  {
   "cell_type": "markdown",
   "metadata": {},
   "source": [
    "# Rede Neural de Múltiplas Camadas para Regressão Simbólica"
   ]
  },
  {
   "cell_type": "code",
   "execution_count": 1,
   "metadata": {},
   "outputs": [
    {
     "data": {
      "text/plain": [
       "{'divide': 'warn', 'invalid': 'warn', 'over': 'warn', 'under': 'ignore'}"
      ]
     },
     "execution_count": 1,
     "metadata": {},
     "output_type": "execute_result"
    }
   ],
   "source": [
    "import numpy as np\n",
    "import sys\n",
    "from sklearn.model_selection import train_test_split\n",
    "from sklearn.metrics import mean_squared_error\n",
    "from sklearn.linear_model import LassoCV\n",
    "from sklearn.linear_model import LassoLarsCV\n",
    "\n",
    "# ignoramos os resultados NaN das funções pois vamnos zera-los\n",
    "np.seterr(invalid='ignore')"
   ]
  },
  {
   "cell_type": "markdown",
   "metadata": {},
   "source": [
    "- carrega os dados do arquivo fname e retorna X, y"
   ]
  },
  {
   "cell_type": "code",
   "execution_count": 2,
   "metadata": {},
   "outputs": [],
   "source": [
    "def importaDados(fname):\n",
    "    dataset = np.loadtxt(fname, delimiter=\",\")\n",
    "    X = dataset[:, :-1]\n",
    "    y = dataset[:, -1]\n",
    "    return (X, y)"
   ]
  },
  {
   "cell_type": "markdown",
   "metadata": {},
   "source": [
    "- recebe uma matriz X e uma rede de expoentes\n",
    "- retorna os dados transformados\n",
    "- substitui todos os valores NaN e Inf para 0"
   ]
  },
  {
   "cell_type": "code",
   "execution_count": 3,
   "metadata": {},
   "outputs": [],
   "source": [
    "def transformData(X, rede):\n",
    "    n_rows = X.shape[0]\n",
    "    n_inter = rede.shape[1]\n",
    "    layers = np.ndarray((n_rows, 3*n_inter))\n",
    "    for i in range(0, n_inter*3, 3):\n",
    "        power = X**rede[:,int(i/3)]\n",
    "        layers[:,i] = np.prod(power,axis=1) # id\n",
    "        layers[:,i+1] = np.cos(layers[:,i]) # cos\n",
    "        layers[:,i+2] = np.sqrt(layers[:,i]) # sqrt\n",
    "    cols = np.any(np.isnan(layers), axis=0)\n",
    "    layers[:, cols] = 0\n",
    "    return layers"
   ]
  },
  {
   "cell_type": "markdown",
   "metadata": {},
   "source": [
    "- Cria a camada de expoentes da rede com n_inter neurônios\n",
    "- Aplica a função transformData em X_train utilizando essa rede\n",
    "- Divida a base entre treino e validação\n",
    "- Aplique o LassoCV e LassoLarsCV, verifique na validação o que retorna o menor erro\n",
    "- Retorne a rede e o modelo de menor erro\n",
    "- expoentes aleatorios de 0 a 2"
   ]
  },
  {
   "cell_type": "code",
   "execution_count": 4,
   "metadata": {},
   "outputs": [],
   "source": [
    "def fit(X_train, y_train, n_inter):\n",
    "    n_inputs = X_train.shape[1]\n",
    "    exponents = np.random.randint(0,3,size=(n_inputs, n_inter))\n",
    "    X_transf = transformData(X_train, exponents)\n",
    "    X_train, X_test, y_train, y_test = train_test_split(X_transf, y_train, test_size=0.3, random_state=1)\n",
    "    models = {'lassoCV':LassoCV(max_iter=5e4, cv=3), 'lassoLarsCV':LassoLarsCV(max_iter=5e4, cv=3)}\n",
    "    rmse = {}\n",
    "    for key, model in models.items():\n",
    "        model.fit(X_train, y_train)\n",
    "        y_pred = model.predict(X_test)\n",
    "        rmse[key] = np.sqrt(mean_squared_error(y_test, y_pred))\n",
    "        print(key, rmse[key]) # so pra conferir se eu to fazdo certo\n",
    "    print('min', min(rmse, key=rmse.get)) # so pra conferir se eu to fazdo certo\n",
    "    return exponents, models[min(rmse, key=rmse.get)]"
   ]
  },
  {
   "cell_type": "markdown",
   "metadata": {},
   "source": [
    "- Aplica transformData em X_test usando a rede\n",
    "- Aplique o método predict de modelo na base transformada e armazena a saída em y_hat\n",
    "- Retorna y_hat"
   ]
  },
  {
   "cell_type": "code",
   "execution_count": 5,
   "metadata": {},
   "outputs": [],
   "source": [
    "def predict(X_test, rede, modelo):\n",
    "    X_transf = transformData(X_test, rede)\n",
    "    y_hat = modelo.predict(X_transf)\n",
    "    return y_hat"
   ]
  },
  {
   "cell_type": "markdown",
   "metadata": {},
   "source": [
    "- main"
   ]
  },
  {
   "cell_type": "code",
   "execution_count": 6,
   "metadata": {},
   "outputs": [
    {
     "name": "stdout",
     "output_type": "stream",
     "text": [
      "n inter 5\n",
      "lassoCV 6.40009411517889\n",
      "lassoLarsCV 5.2220226976922905\n",
      "min lassoLarsCV\n",
      "rmse airfoil 5.357374009772064 \n",
      "\n",
      "lassoCV 15.477505972484359\n",
      "lassoLarsCV 14.45235554319056\n",
      "min lassoLarsCV\n",
      "rmse concrete 14.66909108429513 \n",
      "\n",
      "lassoCV 559.8124571040972\n",
      "lassoLarsCV 290.97999979923344\n",
      "min lassoLarsCV\n",
      "rmse cpu 70.06103712444842 \n",
      "\n",
      "lassoCV 9.739216398637595\n",
      "lassoLarsCV 5.137992183801275\n",
      "min lassoLarsCV\n",
      "rmse energyCooling 5.5709338418284835 \n",
      "\n",
      "lassoCV 8.666101347456971\n",
      "lassoLarsCV 4.081405742994017\n",
      "min lassoLarsCV\n",
      "rmse energyHeating 4.5585815006219 \n",
      "\n",
      "lassoCV 21.61956429670779\n",
      "lassoLarsCV 19.3531125546516\n",
      "min lassoLarsCV\n",
      "rmse forestfires 82.25011717728836 \n",
      "\n",
      "lassoCV 75.86265996768928\n",
      "lassoLarsCV 61.75929799072116\n",
      "min lassoLarsCV\n",
      "rmse towerData 66.07240206253448 \n",
      "\n",
      "lassoCV 0.7460803807618895\n",
      "lassoLarsCV 0.6975787410971579\n",
      "min lassoLarsCV\n",
      "rmse wineRed 0.7330427458252987 \n",
      "\n",
      "lassoCV 0.8822215317407687\n",
      "lassoLarsCV 0.8595346002337939\n",
      "min lassoLarsCV\n",
      "rmse wineWhite 0.8663455024818917 \n",
      "\n",
      "lassoCV 10.568085045501523\n",
      "lassoLarsCV 10.16122016227372\n",
      "min lassoLarsCV\n",
      "rmse yacht 9.731068516319386 \n",
      "\n"
     ]
    }
   ],
   "source": [
    "NINTER = 5\n",
    "print(\"n inter\", NINTER)\n",
    "\n",
    "bases = ['airfoil', 'concrete', 'cpu', 'energyCooling', 'energyHeating',\n",
    "         'forestfires', 'towerData', 'wineRed', 'wineWhite', 'yacht']\n",
    "basesquebugam = ['bioavailability', 'ppb']\n",
    "\n",
    "for base in bases:\n",
    "    fileTrain = 'datasets/' + base + '-train-0.dat'\n",
    "    X_train, y_train = importaDados(fileTrain)\n",
    "    rede, modelo = fit(X_train, y_train, NINTER)\n",
    "    fileTest = 'datasets/' + base + '-test-0.dat'\n",
    "    X_test, y_test = importaDados(fileTest)\n",
    "    y_pred = predict(X_test, rede, modelo)\n",
    "    rmse = np.sqrt(mean_squared_error(y_test, y_pred))\n",
    "    print('rmse', base, rmse, '\\n')"
   ]
  },
  {
   "cell_type": "markdown",
   "metadata": {},
   "source": [
    "### testes\n",
    "\n",
    "Eu testei pras mesmas bases de dados do programa em c e houveram duas q bugam (bioavailability e ppb)\n",
    "\n",
    "```",
    "File \"/home/ufabc/anaconda3/lib/python3.6/site-packages/scipy/interpolate/interpolate.py\", line 528, in __init__\n",
    "    \"least %d entries\" % minval)\n",
    "ValueError: x and y arrays must have at least 2 entries\n",
    "```",
    "\n",
    "O restante deu rmse bom, todas quiseram o modelo `lassoLarsCV`.\n",
    "\n",
    "Seus resultados eram:\n",
    "\n",
    "```",
    "| dataset         | MAE_MLP        | RMSE_MLP       | MAE_XG         | RMSE_XG       |\n",
    "|-----------------|----------------|----------------|----------------|---------------|\n",
    "| airfoil         | 6.18002242479  | 7.67184518627  | 1.11938559178  |1.8309682719   |\n",
    "| bioavailability | 20.5488266959  | 25.3781544225  | 24.4211684128  |31.7162529705  |\n",
    "| concrete        | 8.29282257088  | 10.4776342927  | 2.87123275074  |4.0740942837   |\n",
    "| cpu             | 80.5331905948  | 222.712701917  | 22.7338762755  |77.5892865368  |\n",
    "| energyCooling   | 2.52266654687  | 3.53526528505  | 0.361799431505 |0.514431391528 |\n",
    "| energyHeating   | 2.54868218149  | 3.42836981878  | 0.222104601588 |0.338121978888 |\n",
    "| forestfires     | 22.7982665304  | 107.530502684  | 29.0364162179  |116.625945888  |\n",
    "| ppb             | 28.6142294122  | 33.5858995656  | 31.8702452249  |40.1568089435  |\n",
    "| towerData       | 18.8099924172  | 25.4063703414  | 11.8206282622  |17.0157431156  |\n",
    "| wineRed         | 0.479160333719 | 0.626380925203 | 0.378293441273 |0.591409131066 |\n",
    "| wineWhite       | 0.59194468634  | 0.76440593106  | 0.452436536478 |0.678575144104 |\n",
    "| yacht           | 7.31679187865  | 9.67918507725  | 0.392170667968 |0.849322392096 |\n",
    "```"
   ]
  },
  {
   "cell_type": "code",
   "execution_count": null,
   "metadata": {},
   "outputs": [],
   "source": []
  }
 ],
 "metadata": {
  "kernelspec": {
   "display_name": "Python 3",
   "language": "python",
   "name": "python3"
  },
  "language_info": {
   "codemirror_mode": {
    "name": "ipython",
    "version": 3
   },
   "file_extension": ".py",
   "mimetype": "text/x-python",
   "name": "python",
   "nbconvert_exporter": "python",
   "pygments_lexer": "ipython3",
   "version": "3.6.4"
  }
 },
 "nbformat": 4,
 "nbformat_minor": 2
}
