{
 "cells": [
  {
   "cell_type": "markdown",
   "metadata": {},
   "source": [
    "# inter-transf.py\n",
    "## Author/Professor: Fabrício Olivetti de França\n",
    "## Author/Student: Maira Zabuscha de Lima\n",
    "\n",
    "### Rede Neural de Múltiplas Camadas para Regressão Simbólica"
   ]
  },
  {
   "cell_type": "code",
   "execution_count": 1,
   "metadata": {},
   "outputs": [
    {
     "data": {
      "text/plain": [
       "{'divide': 'warn', 'invalid': 'warn', 'over': 'warn', 'under': 'ignore'}"
      ]
     },
     "execution_count": 1,
     "metadata": {},
     "output_type": "execute_result"
    }
   ],
   "source": [
    "import numpy as np\n",
    "import sys\n",
    "from sklearn.model_selection import train_test_split\n",
    "from sklearn.metrics import mean_squared_error\n",
    "from sklearn.linear_model import LassoCV\n",
    "from sklearn.linear_model import LassoLarsCV\n",
    "\n",
    "# ignoramos os resultados NaN das funções pois vamnos zera-los\n",
    "np.seterr(invalid='ignore')"
   ]
  },
  {
   "cell_type": "markdown",
   "metadata": {},
   "source": [
    "- carrega os dados do arquivo fname e retorna X, y"
   ]
  },
  {
   "cell_type": "code",
   "execution_count": 7,
   "metadata": {},
   "outputs": [],
   "source": [
    "def importaDados(fname):\n",
    "    dataset = np.loadtxt(fname, delimiter=\",\")\n",
    "    X = dataset[:, :-1]\n",
    "    y = dataset[:, -1]\n",
    "    return (X, y)"
   ]
  },
  {
   "cell_type": "markdown",
   "metadata": {},
   "source": [
    "- recebe uma matriz X e uma rede de expoentes\n",
    "- retorna os dados transformados\n",
    "- substitui todos os valores NaN e Inf para 0"
   ]
  },
  {
   "cell_type": "code",
   "execution_count": 3,
   "metadata": {},
   "outputs": [],
   "source": [
    "def transformData(X, rede):\n",
    "    n_rows = X.shape[0]\n",
    "    n_inter = rede.shape[1]\n",
    "    layers = np.ndarray((n_rows, 3*n_inter))\n",
    "    for i in range(0, n_inter*3, 3):\n",
    "        power = X**rede[:,int(i/3)]\n",
    "        layers[:,i] = np.prod(power,axis=1) # id\n",
    "        layers[:,i+1] = np.cos(layers[:,i]) # cos\n",
    "        layers[:,i+2] = np.sqrt(layers[:,i]) # sqrt\n",
    "    cols = np.any(np.isnan(layers), axis=0)\n",
    "    layers[:, cols] = 0\n",
    "    print('layers shape', layers.shape)\n",
    "    return layers"
   ]
  },
  {
   "cell_type": "markdown",
   "metadata": {},
   "source": [
    "- Cria a camada de expoentes da rede com n_inter neurônios\n",
    "- Aplica a função transformData em X_train utilizando essa rede\n",
    "- Divida a base entre treino e validação\n",
    "- Aplique o LassoCV e LassoLarsCV, verifique na validação o que retorna o menor erro\n",
    "- Retorne a rede e o modelo de menor erro\n",
    "- expoentes aleatorios de 0 a 2"
   ]
  },
  {
   "cell_type": "code",
   "execution_count": 4,
   "metadata": {},
   "outputs": [],
   "source": [
    "def fit(X_train, y_train, n_inter):\n",
    "    n_inputs = X_train.shape[1]\n",
    "    exponents = np.random.randint(0,3,size=(n_inputs, n_inter))\n",
    "    X_transf = transformData(X_train, exponents)\n",
    "    X_train, X_test, y_train, y_test = train_test_split(X_transf, y_train, test_size=0.3, random_state=1)\n",
    "    lassoCV = LassoCV(max_iter=5e4, cv=3)\n",
    "    lassoCV.fit(X_train, y_train)\n",
    "    y_pred = lassoCV.predict(X_test)\n",
    "    rmseLassoCV = np.sqrt(mean_squared_error(y_test, y_pred))\n",
    "    lassoLarsCV = LassoLarsCV(max_iter=5e4, cv=3)\n",
    "    lassoLarsCV.fit(X_train, y_train)\n",
    "    y_pred = lassoLarsCV.predict(X_test)\n",
    "    rmseLassoLarsCV = np.sqrt(mean_squared_error(y_test, y_pred))\n",
    "    print('rmseLassoCV', rmseLassoCV)\n",
    "    print('rmseLassoLarsCV', rmseLassoLarsCV)"
   ]
  },
  {
   "cell_type": "markdown",
   "metadata": {},
   "source": [
    "- Aplica transformData em X_test usando a rede\n",
    "- Aplique o método predict de modelo na base transformada e armazena a saída em y_hat\n",
    "- Retorna y_at"
   ]
  },
  {
   "cell_type": "code",
   "execution_count": 5,
   "metadata": {},
   "outputs": [],
   "source": [
    "def predict(X_test, rede, modelo):\n",
    "    print('predict') # implementar!!"
   ]
  },
  {
   "cell_type": "markdown",
   "metadata": {},
   "source": [
    "- main"
   ]
  },
  {
   "cell_type": "code",
   "execution_count": 8,
   "metadata": {},
   "outputs": [
    {
     "name": "stdout",
     "output_type": "stream",
     "text": [
      "n inter 5\n",
      "layers shape (301, 15)\n",
      "rmseLassoCV 5.450701103067004\n",
      "rmseLassoLarsCV 4.404831919314065\n"
     ]
    }
   ],
   "source": [
    "fileName = \"datasets/airfoil-test-0.dat\"\n",
    "X, y = importaDados(fileName)\n",
    "NINTER = 5\n",
    "print(\"n inter\", NINTER)\n",
    "fit(X, y, NINTER)"
   ]
  },
  {
   "cell_type": "code",
   "execution_count": null,
   "metadata": {},
   "outputs": [],
   "source": []
  }
 ],
 "metadata": {
  "kernelspec": {
   "display_name": "Python 3",
   "language": "python",
   "name": "python3"
  },
  "language_info": {
   "codemirror_mode": {
    "name": "ipython",
    "version": 3
   },
   "file_extension": ".py",
   "mimetype": "text/x-python",
   "name": "python",
   "nbconvert_exporter": "python",
   "pygments_lexer": "ipython3",
   "version": "3.6.4"
  }
 },
 "nbformat": 4,
 "nbformat_minor": 2
}
