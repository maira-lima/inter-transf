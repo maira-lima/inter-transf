{
 "cells": [
  {
   "cell_type": "markdown",
   "metadata": {
    "slideshow": {
     "slide_type": "slide"
    }
   },
   "source": [
    "# Gerando Expressões Interação-Transformação com Perceptron de Múltiplas Camadas\n",
    "\n",
    "\n",
    "Maira Zabuscha de Lima\n",
    "\n",
    "Orientador: Prof. Dr. Fabrício Olivetti de França"
   ]
  },
  {
   "attachments": {},
   "cell_type": "markdown",
   "metadata": {
    "slideshow": {
     "slide_type": "slide"
    }
   },
   "source": [
    "## Introdução\n",
    "\n",
    "A **regressão** é uma técnica estatística que determina a relação entre variáveis através de uma função que aproxima dados obtidos experimentalmente, chamada de modelo. Para tanto, é necessário definir uma função, por exemplo $f(x) = y = ax +b$, a priori e, então, otimizar os parâmetros, nesse exemplo $a$ e $b$, para melhor acomodar os dados, $x$ e $y$.\n",
    "\n",
    "Uma **rede neural de múltiplas camadas** tem a vantagem de ser um aproximador universal, ou seja, ela é capaz de aproximar qualquer função $f$ com um pequeno erro $\\epsilon$, dados os parâmetros corretos. Porém, a função fornecida por essa técnica pode ser composta pela soma de uma grande quantidade de funções não relacionadas, não sendo possível sua interpretação semântica pelo pesquisador. Por esse motivo, essa técnica é chamada de caixa preta.\n",
    "\n",
    "Quando se tem interesse em um modelo com capacidade de interpretação semântica, utiliza-se a técnica da **regressão simbólica**, que fornece um modelo simples e, ainda assim, de erro mínimo. A regressão simbólica otimiza não apenas os parâmetros, mas também as funções usadas pelo modelo, com os objetivos de minimizar o erro de aproximação e maximizar a simplicidade da expressão.\n"
   ]
  },
  {
   "cell_type": "markdown",
   "metadata": {
    "slideshow": {
     "slide_type": "slide"
    }
   },
   "source": [
    "## Justificativa\n",
    "\n",
    "Um modelo de regressão simbólica que produz soluções simples, mesmo que com precisão menor que os modelos caixas pretas, pode ser desejável em diversas situações nas quais o objetivo é compreender o sistema, por exemplo fenômenos físicos, ou quando explicar o modelo é necessário para extrair conhecimento do sistema, e, até mesmo, para validar o modelo, como nos seguintes exemplos:\n",
    "\n",
    "- um modelo que automatiza as decisões de um juiz: não pode ter viés;\n",
    "- modelo que toma as decisões de um sistema de inteligência artificial que conduz um veículo de passageiros autonomamente;\n",
    "- muitas empresas online que usam algoritmos para otimizar as ofertas que fazem aos usuários, como a Netflix, a Amazon."
   ]
  },
  {
   "cell_type": "markdown",
   "metadata": {
    "slideshow": {
     "slide_type": "slide"
    }
   },
   "source": [
    "## Representação Interação-Transformação\n",
    "\n",
    "Dado um conjunto de dados representado por uma matriz $X_{(r \\times d)}$, e um vetor de variáveis alvo $y$, a representação Interação-Transformação (IT) foi definida como as funções representáveis pela forma:\n",
    "\\begin{equation}\n",
    "\\hat{y} = \\sum_i w_i \\cdot g_i(\\mathbf{x}),\n",
    "\\label{eq:it}\n",
    "\\end{equation}\n",
    "onde $w_i$ são coeficientes de uma regressão linear dos componentes $g_i(.)$ que são funções compostas $g(.) = t(.) \\circ p(.)$, com $t : \\mathbb{R} \\rightarrow \\mathbb{R}$ uma função de transformação, e $p : \\mathbb{R}^d \\rightarrow \\mathbb{R}$ uma função de interação da forma:\n",
    "\\begin{equation}\n",
    "p(\\mathbf{x}) = \\prod_{i=1}^d x_i^{e_i},\n",
    "\\end{equation}\n",
    "onde $e_i \\in \\mathbb{Z}$ são expoentes inteiros, denominados força da interação."
   ]
  },
  {
   "cell_type": "markdown",
   "metadata": {
    "slideshow": {
     "slide_type": "slide"
    }
   },
   "source": [
    "## Exemplo\n",
    "\n",
    "Para exemplificar a estrutura IT, considere a função:\n",
    "\\begin{equation}\n",
    "f(\\mathbf{x}) = 3.5 \\cos{(x_1^2 x_2)} + 5 \\sqrt{\\frac{x_2^3}{x_1}},\n",
    "\\end{equation}\n",
    "que pode ser descrita como\n",
    "\\begin{equation}\n",
    "\\mathbf{t}(z) = [\\cos{z}, \\sqrt{z}]\n",
    "\\end{equation}\n",
    "\\begin{equation}\n",
    "\\mathbf{p}(\\mathbf{x}) = [x_1^2 x_2, x_1^{-1} x_2^3]\n",
    "\\end{equation}\n",
    "\\begin{equation}\n",
    "\\mathbf{w} = [3.5, 5.]\n",
    "\\end{equation}"
   ]
  },
  {
   "cell_type": "markdown",
   "metadata": {
    "slideshow": {
     "slide_type": "slide"
    }
   },
   "source": [
    "|    **Nome**   | **Tamanho** | **Variáveis** |\n",
    "|:-------------:|:-----------:|:-------------:|\n",
    "|    Airfoil    |    $1503$   |      $5$      |\n",
    "|    Concrete   |    $1030$   |      $8$      |\n",
    "|      cpu      |    $209$    |      $7$      |\n",
    "| EnergyCooling |    $768$    |      $8$      |\n",
    "| EnergyHeating |    $768$    |      $8$      |\n",
    "|  Forestfires  |    $517$    |      $9$      |\n",
    "|   TowerData   |    $4999$   |      $25$     |\n",
    "|    WineRed    |    $1599$   |      $11$     |\n",
    "|   WineWhite   |    $4898$   |      $11$     |\n",
    "|     Yacht     |    $308$    |      $6$      |\n"
   ]
  },
  {
   "cell_type": "markdown",
   "metadata": {
    "slideshow": {
     "slide_type": "slide"
    }
   },
   "source": [
    "|         **Parâmetro**        |                           **Valores**                          |\n",
    "|:----------------------------:|:--------------------------------------------------------------:|\n",
    "| neurônios da primeira camada |                   $[10d, 100d, 500d, 1000d]$                   |\n",
    "|   $(min_{exp}, max_{exp})$   | $[(-4,4), (-3,3) ,(-2,2), (-1,1), (0,1), (0,2), (0,3), (0,4)]$ |\n",
    "|    algoritmo de regressão    |                           Lars, Lasso                          |"
   ]
  },
  {
   "cell_type": "markdown",
   "metadata": {
    "slideshow": {
     "slide_type": "slide"
    }
   },
   "source": [
    "|  **Dataset**  |   $n$  |   $min_{exp}$   | $max_{exp}$ | **Regressão** |\n",
    "|:-------------:|:------:|:---------------:|:-----------:|:-------------:|\n",
    "|    Airfoil    |  $10$  |       $-2$      |     $2$     |      Lars     |\n",
    "|    Concrete   |  $500$ |       $-2$      |     $2$     |      Lars     |\n",
    "|      cpu      | $1000$ |       $-3$      |     $3$     |      Lars     |\n",
    "| EnergyCooling |  $500$ |       $-2$      |     $2$     |      Lars     |\n",
    "| EnergyHeating |  $500$ | $\\hphantom{-}0$ |     $4$     |      Lars     |\n",
    "|  Forestfires  |  $10$  |       $-2$      |     $2$     |     Lasso     |\n",
    "|   TowerData   |  $10$  | $\\hphantom{-}0$ |     $2$     |      Lars     |\n",
    "|    WineRed    |  $100$ |       $-1$      |     $1$     |      Lars     |\n",
    "|   WineWhite   |  $100$ |       $-1$      |     $1$     |      Lars     |\n",
    "|     Yacht     |  $100$ |       $-3$      |     $3$     |      Lars     |"
   ]
  },
  {
   "cell_type": "markdown",
   "metadata": {
    "slideshow": {
     "slide_type": "slide"
    }
   },
   "source": [
    "|  **Dataset**  | **Lasso** | **Ridge** | **ElasticNet** | **Lars** |  **IT** | **IT simpl.** |\n",
    "|:-------------:|:--------:|:---------:|:--------------:|:--------:|:-------:|:-------------:|\n",
    "|    Airfoil    |  $6.14$  |   $4.86$  |     $6.17$     |  $4.82$  |  $2.89$ |     $3.37$    |\n",
    "|    Concrete   |  $10.4$  |   $10.4$  |     $10.4$     |  $10.4$  |  $4.89$ |     $8.13$    |\n",
    "|      cpu      |  $42.1$  |   $35.0$  |     $45.8$     |  $34.5$  |  $2.26$ |     $75.0$    |\n",
    "| EnergyCooling |  $4.08$  |   $3.25$  |     $4.41$     |  $3.21$  | $0.990$ |     $2.06$    |\n",
    "| EnergyHeating |  $4.24$  |   $2.97$  |     $4.50$     |  $2.94$  | $0.321$ |     $16.7$    |\n",
    "|  Forestfires  |  $51.8$  |   $53.2$  |     $51.8$     |  $52.1$  |  $51.8$ |     $51.8$    |\n",
    "|   TowerData   |  $33.9$  |   $30.6$  |     $43.7$     |  $30.8$  |  $14.7$ |     $122$     |\n",
    "|    WineRed    |  $0.656$ |  $0.651$  |     $0.658$    |  $0.651$ | $0.631$ |    $0.633$    |\n",
    "|   WineWhite   |  $0.762$ |  $0.758$  |     $0.769$    |  $0.755$ | $0.708$ |    $0.710$    |\n",
    "|     Yacht     |  $8.97$  |   $9.00$  |     $9.07$     |  $8.98$  | $0.693$ |    $0.693$    |"
   ]
  },
  {
   "cell_type": "markdown",
   "metadata": {
    "slideshow": {
     "slide_type": "slide"
    }
   },
   "source": [
    "|  **Dataset**  | **MLP** | **GBoost** |  **IT** | **IT simpl.** |\n",
    "|:-------------:|:-------:|:----------:|:-------:|:-------------:|\n",
    "|    Airfoil    |  $4.85$ |   $2.19$   |  $2.89$ |     $3.37$    |\n",
    "|    Concrete   |  $7.77$ |   $4.76$   |  $4.89$ |     $8.13$    |\n",
    "|      cpu      |  $45.5$ |   $42.7$   |  $2.26$ |     $75.0$    |\n",
    "| EnergyCooling |  $3.34$ |   $0.835$  | $0.990$ |     $2.06$    |\n",
    "| EnergyHeating |  $2.73$ |   $0.383$  | $0.321$ |     $16.7$    |\n",
    "|  Forestfires  |  $51.8$ |   $52.1$   |  $51.8$ |     $51.8$    |\n",
    "|   TowerData   |  $18.6$ |   $18.0$   |  $14.7$ |     $122$     |\n",
    "|    WineRed    | $0.630$ |   $0.606$  | $0.631$ |    $0.633$    |\n",
    "|   WineWhite   | $0.695$ |   $0.676$  | $0.708$ |    $0.710$    |\n",
    "|     Yacht     |  $3.89$ |   $0.898$  | $0.693$ |    $0.693$    |"
   ]
  },
  {
   "cell_type": "markdown",
   "metadata": {
    "slideshow": {
     "slide_type": "slide"
    }
   },
   "source": [
    "|  **Dataset**  | **MLP** | **GBoost** | **IT** | **IT simpl.** |\n",
    "|:-------------:|:-------:|:----------:|:------:|:-------------:|\n",
    "|    Airfoil    |  $2500$ |   $2724$   |  $176$ |     $140$     |\n",
    "|    Concrete   |  $4000$ |   $2860$   |  $955$ |     $862$     |\n",
    "|      cpu      |  $4560$ |   $1474$   |  $702$ |     $624$     |\n",
    "| EnergyCooling |  $4000$ |   $1832$   |  $702$ |     $624$     |\n",
    "| EnergyHeating |  $4360$ |   $2455$   | $1486$ |     $1443$    |\n",
    "|  Forestfires  |  $4130$ |    $177$   |   $8$  |      $0$      |\n",
    "|   TowerData   |  $7500$ |   $3006$   | $8872$ |     $4148$    |\n",
    "|    WineRed    |  $880$  |   $2134$   |  $302$ |     $293$     |\n",
    "|   WineWhite   |  $5620$ |   $2818$   |  $693$ |     $674$     |\n",
    "|     Yacht     |  $5600$ |   $1013$   |  $489$ |     $489$     |"
   ]
  },
  {
   "cell_type": "code",
   "execution_count": null,
   "metadata": {},
   "outputs": [],
   "source": []
  }
 ],
 "metadata": {
  "celltoolbar": "Slideshow",
  "kernelspec": {
   "display_name": "Python 3",
   "language": "python",
   "name": "python3"
  },
  "language_info": {
   "codemirror_mode": {
    "name": "ipython",
    "version": 3
   },
   "file_extension": ".py",
   "mimetype": "text/x-python",
   "name": "python",
   "nbconvert_exporter": "python",
   "pygments_lexer": "ipython3",
   "version": "3.6.6"
  }
 },
 "nbformat": 4,
 "nbformat_minor": 2
}
