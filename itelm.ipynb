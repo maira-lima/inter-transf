{
 "cells": [
  {
   "cell_type": "markdown",
   "metadata": {
    "slideshow": {
     "slide_type": "slide"
    }
   },
   "source": [
    "# Gerando Expressões Interação-Transformação com Perceptron de Múltiplas Camadas\n",
    "\n",
    "\n",
    "Maira Zabuscha de Lima\n",
    "\n",
    "Orientador: Prof. Dr. Fabrício Olivetti de França"
   ]
  },
  {
   "attachments": {},
   "cell_type": "markdown",
   "metadata": {
    "slideshow": {
     "slide_type": "slide"
    }
   },
   "source": [
    "## Introdução\n",
    "\n",
    "A **regressão** é uma técnica estatística que determina a relação entre variáveis através de uma função que aproxima dados obtidos experimentalmente, chamada de modelo. Para tanto, é necessário definir uma função, por exemplo $f(x) = y = ax +b$, a priori e, então, otimizar os parâmetros, nesse exemplo $a$ e $b$, para melhor acomodar os dados, $x$ e $y$.\n",
    "\n",
    "Uma **rede neural de múltiplas camadas** tem a vantagem de ser um aproximador universal, ou seja, ela é capaz de aproximar qualquer função $f$ com um pequeno erro $\\epsilon$, dados os parâmetros corretos. Porém, a função fornecida por essa técnica pode ser composta pela soma de uma grande quantidade de funções não relacionadas, não sendo possível sua interpretação semântica pelo pesquisador. Por esse motivo, essa técnica é chamada de caixa preta.\n",
    "\n",
    "Quando se tem interesse em um modelo com capacidade de interpretação semântica, utiliza-se a técnica da **regressão simbólica**, que fornece um modelo simples e, ainda assim, de erro mínimo. A regressão simbólica otimiza não apenas os parâmetros, mas também as funções usadas pelo modelo, com os objetivos de minimizar o erro de aproximação e maximizar a simplicidade da expressão.\n"
   ]
  },
  {
   "cell_type": "markdown",
   "metadata": {
    "slideshow": {
     "slide_type": "slide"
    }
   },
   "source": [
    "## Justificativa\n",
    "\n",
    "Um modelo de regressão simbólica que produz soluções simples, mesmo que com precisão menor que os modelos caixas pretas, pode ser desejável em diversas situações nas quais o objetivo é compreender o sistema, por exemplo fenômenos físicos, ou quando explicar o modelo é necessário para extrair conhecimento do sistema, e, até mesmo, para validar o modelo, como nos seguintes exemplos:\n",
    "\n",
    "- um modelo que automatiza as decisões de um juiz: não pode ter viés;\n",
    "- modelo que toma as decisões de um sistema de inteligência artificial que conduz um veículo de passageiros autonomamente;\n",
    "- muitas empresas online que usam algoritmos para otimizar as ofertas que fazem aos usuários, como a Netflix, a Amazon."
   ]
  },
  {
   "cell_type": "markdown",
   "metadata": {
    "slideshow": {
     "slide_type": "slide"
    }
   },
   "source": [
    "## Representação Interação-Transformação\n",
    "\n",
    "Dado um conjunto de dados representado por uma matriz $X_{(r \\times d)}$, e um vetor de variáveis alvo $y$, a representação Interação-Transformação (IT) foi definida como as funções representáveis pela forma:\n",
    "\\begin{equation}\n",
    "\\hat{y} = \\sum_i w_i \\cdot g_i(\\mathbf{x}),\n",
    "\\label{eq:it}\n",
    "\\end{equation}\n",
    "onde $w_i$ são coeficientes de uma regressão linear dos componentes $g_i(.)$ que são funções compostas $g(.) = t(.) \\circ p(.)$, com $t : \\mathbb{R} \\rightarrow \\mathbb{R}$ uma função de transformação, e $p : \\mathbb{R}^d \\rightarrow \\mathbb{R}$ uma função de interação da forma:\n",
    "\\begin{equation}\n",
    "p(\\mathbf{x}) = \\prod_{i=1}^d x_i^{e_i},\n",
    "\\end{equation}\n",
    "onde $e_i \\in \\mathbb{Z}$ são expoentes inteiros, denominados força da interação."
   ]
  },
  {
   "cell_type": "markdown",
   "metadata": {
    "slideshow": {
     "slide_type": "slide"
    }
   },
   "source": [
    "## Exemplo\n",
    "\n",
    "Para exemplificar a estrutura IT, considere a função:\n",
    "\\begin{equation}\n",
    "f(\\mathbf{x}) = 3.5 \\cos{(x_1^2 x_2)} + 5 \\sqrt{\\frac{x_2^3}{x_1}},\n",
    "\\end{equation}\n",
    "que pode ser descrita como\n",
    "\\begin{equation}\n",
    "\\mathbf{t}(z) = [\\cos{z}, \\sqrt{z}]\n",
    "\\end{equation}\n",
    "\\begin{equation}\n",
    "\\mathbf{p}(\\mathbf{x}) = [x_1^2 x_2, x_1^{-1} x_2^3]\n",
    "\\end{equation}\n",
    "\\begin{equation}\n",
    "\\mathbf{w} = [3.5, 5.]\n",
    "\\end{equation}"
   ]
  },
  {
   "cell_type": "markdown",
   "metadata": {
    "slideshow": {
     "slide_type": "slide"
    }
   },
   "source": [
    "## Bases de dados reais usadas nos experimentos\n",
    "\n",
    "|    **Nome**   | **Tamanho** | **Variáveis** |\n",
    "|:-------------:|:-----------:|:-------------:|\n",
    "|    Airfoil    |    $1503$   |      $5$      |\n",
    "|    Concrete   |    $1030$   |      $8$      |\n",
    "|      cpu      |    $209$    |      $7$      |\n",
    "| EnergyCooling |    $768$    |      $8$      |\n",
    "| EnergyHeating |    $768$    |      $8$      |\n",
    "|  Forestfires  |    $517$    |      $9$      |\n",
    "|   TowerData   |    $4999$   |      $25$     |\n",
    "|    WineRed    |    $1599$   |      $11$     |\n",
    "|   WineWhite   |    $4898$   |      $11$     |\n",
    "|     Yacht     |    $308$    |      $6$      |\n"
   ]
  },
  {
   "cell_type": "markdown",
   "metadata": {
    "slideshow": {
     "slide_type": "slide"
    }
   },
   "source": [
    "## Valores de parâmetros considerados para o algoritmo IT-ELM\n",
    "\n",
    "|         **Parâmetro**        |                           **Valores**                          |\n",
    "|:----------------------------:|:--------------------------------------------------------------:|\n",
    "| neurônios da primeira camada |                   $[10d, 100d, 500d, 1000d]$                   |\n",
    "|   $(min_{exp}, max_{exp})$   | $[(-4,4), (-3,3) ,(-2,2), (-1,1), (0,1), (0,2), (0,3), (0,4)]$ |\n",
    "|    algoritmo de regressão    |                           Lars, Lasso                          |"
   ]
  },
  {
   "cell_type": "markdown",
   "metadata": {
    "slideshow": {
     "slide_type": "slide"
    }
   },
   "source": [
    "## Valores de parâmetros selecionados para o algoritmo IT-ELM\n",
    "\n",
    "|  **Dataset**  |   $n$  |   $min_{exp}$   | $max_{exp}$ | **Regressão** |\n",
    "|:-------------:|:------:|:---------------:|:-----------:|:-------------:|\n",
    "|    Airfoil    |  $10$  |       $-2$      |     $2$     |      Lars     |\n",
    "|    Concrete   |  $500$ |       $-2$      |     $2$     |      Lars     |\n",
    "|      cpu      | $1000$ |       $-3$      |     $3$     |      Lars     |\n",
    "| EnergyCooling |  $500$ |       $-2$      |     $2$     |      Lars     |\n",
    "| EnergyHeating |  $500$ | $\\hphantom{-}0$ |     $4$     |      Lars     |\n",
    "|  Forestfires  |  $10$  |       $-2$      |     $2$     |     Lasso     |\n",
    "|   TowerData   |  $10$  | $\\hphantom{-}0$ |     $2$     |      Lars     |\n",
    "|    WineRed    |  $100$ |       $-1$      |     $1$     |      Lars     |\n",
    "|   WineWhite   |  $100$ |       $-1$      |     $1$     |      Lars     |\n",
    "|     Yacht     |  $100$ |       $-3$      |     $3$     |      Lars     |"
   ]
  },
  {
   "cell_type": "markdown",
   "metadata": {
    "slideshow": {
     "slide_type": "slide"
    }
   },
   "source": [
    "## Comparação de RMSE com Regressão Linear\n",
    "\n",
    "|  **Dataset**  | **Lasso** | **Ridge** | **ElasticNet** | **Lars** |  **IT** | **IT simpl.** |\n",
    "|:-------------:|:--------:|:---------:|:--------------:|:--------:|:-------:|:-------------:|\n",
    "|    Airfoil    |  $6.14$  |   $4.86$  |     $6.17$     |  $4.82$  |  $2.89$ |     $3.37$    |\n",
    "|    Concrete   |  $10.4$  |   $10.4$  |     $10.4$     |  $10.4$  |  $4.89$ |     $8.13$    |\n",
    "|      cpu      |  $42.1$  |   $35.0$  |     $45.8$     |  $34.5$  |  $2.26$ |     $75.0$    |\n",
    "| EnergyCooling |  $4.08$  |   $3.25$  |     $4.41$     |  $3.21$  | $0.990$ |     $2.06$    |\n",
    "| EnergyHeating |  $4.24$  |   $2.97$  |     $4.50$     |  $2.94$  | $0.321$ |     $16.7$    |\n",
    "|  Forestfires  |  $51.8$  |   $53.2$  |     $51.8$     |  $52.1$  |  $51.8$ |     $51.8$    |\n",
    "|   TowerData   |  $33.9$  |   $30.6$  |     $43.7$     |  $30.8$  |  $14.7$ |     $122$     |\n",
    "|    WineRed    |  $0.656$ |  $0.651$  |     $0.658$    |  $0.651$ | $0.631$ |    $0.633$    |\n",
    "|   WineWhite   |  $0.762$ |  $0.758$  |     $0.769$    |  $0.755$ | $0.708$ |    $0.710$    |\n",
    "|     Yacht     |  $8.97$  |   $9.00$  |     $9.07$     |  $8.98$  | $0.693$ |    $0.693$    |"
   ]
  },
  {
   "cell_type": "markdown",
   "metadata": {
    "slideshow": {
     "slide_type": "slide"
    }
   },
   "source": [
    "## Comparação de RMSE com MLP e GBoost\n",
    "\n",
    "|  **Dataset**  | **MLP** | **GBoost** |  **IT** | **IT simpl.** |\n",
    "|:-------------:|:-------:|:----------:|:-------:|:-------------:|\n",
    "|    Airfoil    |  $4.85$ |   $2.19$   |  $2.89$ |     $3.37$    |\n",
    "|    Concrete   |  $7.77$ |   $4.76$   |  $4.89$ |     $8.13$    |\n",
    "|      cpu      |  $45.5$ |   $42.7$   |  $2.26$ |     $75.0$    |\n",
    "| EnergyCooling |  $3.34$ |   $0.835$  | $0.990$ |     $2.06$    |\n",
    "| EnergyHeating |  $2.73$ |   $0.383$  | $0.321$ |     $16.7$    |\n",
    "|  Forestfires  |  $51.8$ |   $52.1$   |  $51.8$ |     $51.8$    |\n",
    "|   TowerData   |  $18.6$ |   $18.0$   |  $14.7$ |     $122$     |\n",
    "|    WineRed    | $0.630$ |   $0.606$  | $0.631$ |    $0.633$    |\n",
    "|   WineWhite   | $0.695$ |   $0.676$  | $0.708$ |    $0.710$    |\n",
    "|     Yacht     |  $3.89$ |   $0.898$  | $0.693$ |    $0.693$    |"
   ]
  },
  {
   "cell_type": "markdown",
   "metadata": {
    "slideshow": {
     "slide_type": "slide"
    }
   },
   "source": [
    "## Comparação de complexidade com MLP e GBoost\n",
    "\n",
    "|  **Dataset**  | **MLP** | **GBoost** | **IT** | **IT simpl.** |\n",
    "|:-------------:|:-------:|:----------:|:------:|:-------------:|\n",
    "|    Airfoil    |  $2500$ |   $2724$   |  $176$ |     $140$     |\n",
    "|    Concrete   |  $4000$ |   $2860$   |  $955$ |     $862$     |\n",
    "|      cpu      |  $4560$ |   $1474$   |  $702$ |     $624$     |\n",
    "| EnergyCooling |  $4000$ |   $1832$   |  $702$ |     $624$     |\n",
    "| EnergyHeating |  $4360$ |   $2455$   | $1486$ |     $1443$    |\n",
    "|  Forestfires  |  $4130$ |    $177$   |   $8$  |      $0$      |\n",
    "|   TowerData   |  $7500$ |   $3006$   | $8872$ |     $4148$    |\n",
    "|    WineRed    |  $880$  |   $2134$   |  $302$ |     $293$     |\n",
    "|   WineWhite   |  $5620$ |   $2818$   |  $693$ |     $674$     |\n",
    "|     Yacht     |  $5600$ |   $1013$   |  $489$ |     $489$     |"
   ]
  },
  {
   "attachments": {},
   "cell_type": "markdown",
   "metadata": {
    "slideshow": {
     "slide_type": "slide"
    }
   },
   "source": [
    "## airfoil\n",
    "\n",
    "![bar_airfoil.png](data:image/png;base64,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)\n"
   ]
  },
  {
   "cell_type": "code",
   "execution_count": null,
   "metadata": {},
   "outputs": [],
   "source": []
  }
 ],
 "metadata": {
  "celltoolbar": "Slideshow",
  "kernelspec": {
   "display_name": "Python 3",
   "language": "python",
   "name": "python3"
  },
  "language_info": {
   "codemirror_mode": {
    "name": "ipython",
    "version": 3
   },
   "file_extension": ".py",
   "mimetype": "text/x-python",
   "name": "python",
   "nbconvert_exporter": "python",
   "pygments_lexer": "ipython3",
   "version": "3.6.6"
  }
 },
 "nbformat": 4,
 "nbformat_minor": 2
}
