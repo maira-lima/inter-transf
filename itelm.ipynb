{
 "cells": [
  {
   "cell_type": "markdown",
   "metadata": {
    "slideshow": {
     "slide_type": "slide"
    }
   },
   "source": [
    "# Gerando Expressões Interação-Transformação com Perceptron de Múltiplas Camadas\n",
    "\n",
    "\n",
    "### M Z de Lima\n",
    "\n",
    "### Orientador: Prof. Dr. Fabrício Olivetti de França"
   ]
  },
  {
   "cell_type": "markdown",
   "metadata": {
    "slideshow": {
     "slide_type": "slide"
    }
   },
   "source": [
    "## Introdução\n",
    "\n",
    "A **regressão** é uma técnica estatística que determina a relação entre variáveis através de uma função que aproxima dados obtidos experimentalmente, chamada de modelo. Para tanto, é necessário definir uma função, por exemplo $f(x) = y = ax +b$, a priori e, então, otimizar os parâmetros, nesse exemplo $a$ e $b$, para melhor acomodar os dados, $x$ e $y$."
   ]
  },
  {
   "cell_type": "markdown",
   "metadata": {
    "slideshow": {
     "slide_type": "slide"
    }
   },
   "source": [
    "A regressão é utilizada sempre que se tem dados experimentais e é necessário descobrir a relação entre as variáveis. Exemplos de análise de dados envolvendo regressão são verificar a relação entre acidentes de trânsito quando o motorista está embriagado, ou qual a lei que rege certo evento físico observado."
   ]
  },
  {
   "cell_type": "markdown",
   "metadata": {
    "slideshow": {
     "slide_type": "slide"
    }
   },
   "source": [
    "## Regressão Linear\n",
    "\n",
    "Um caso particular de regressão é a **regressão linear**, que assume que as variáveis possuem uma relação linear, ou seja, são diretamente ou inversamente proporcionais, a menos de uma constante. Matematicamente, esse comportamento é descrito pela função linear $f(x) = y = ax +b$ apresentada anteriormente."
   ]
  },
  {
   "cell_type": "markdown",
   "metadata": {
    "slideshow": {
     "slide_type": "slide"
    }
   },
   "source": [
    "Esse é o tipo mais simples de regressão e descreve uma quantidade grande de dados experimentais. Além disso, a regressão linear tem a vantagem de ser facilmente interpretada pelo pesquisador, e o resultado de medições futuras facilmente previsível."
   ]
  },
  {
   "cell_type": "markdown",
   "metadata": {
    "slideshow": {
     "slide_type": "slide"
    }
   },
   "source": [
    "## Perceptron de Múltiplas Camadas\n",
    "\n",
    "Uma **perceptron de múltiplas camadas**, ou MLP do inglês Multilayer Perceptron, é um modelo que arranja vários nós em uma rede de múltiplas camadas, na qual cada nó representa um **neurônio artificial**, portanto é uma rede neural artificial."
   ]
  },
  {
   "cell_type": "markdown",
   "metadata": {
    "slideshow": {
     "slide_type": "slide"
    }
   },
   "source": [
    "A rede do MLP clássica é totalmente conexa, portanto cada neurônio recebe como _inputs_ todos os _outputs_ da camada anterior. A primeira camada é a camada de entrada dos dados e a última camada é a camada de saída, as camadas interiores são as camadas _ocultas_. Os parâmetros $w$ e $v$ que conectam as camadas devem ser determinados através de um algoritmo, tipicamente a **retropropagação**."
   ]
  },
  {
   "attachments": {},
   "cell_type": "markdown",
   "metadata": {
    "slideshow": {
     "slide_type": "slide"
    }
   },
   "source": [
    "### MLP\n",
    "\n",
    "![mlp.png](figures/png/mlp.png)"
   ]
  },
  {
   "cell_type": "markdown",
   "metadata": {
    "slideshow": {
     "slide_type": "slide"
    }
   },
   "source": [
    "Um problema do algoritmo de retropropagação é a falta de robustez em relação ao parâmetro de tamanho de passo $\\alpha$. Para valores muito pequenos, sua convergência pode ser proibitiva computacionalmente, para valores muito grandes, o algoritmo pode divergir."
   ]
  },
  {
   "cell_type": "markdown",
   "metadata": {
    "slideshow": {
     "slide_type": "slide"
    }
   },
   "source": [
    "Além disso, por ser necessário propagar o erro pelas diversas camadas esse algoritmo também sofre de um problema conhecido como _vanishing gradient_, em que os valores do gradiente é reduzido consideravelmente em cada camada de propagação, fazendo com que efetivamente a última camada seja atualizada mais rapidamente que as demais."
   ]
  },
  {
   "cell_type": "markdown",
   "metadata": {
    "slideshow": {
     "slide_type": "slide"
    }
   },
   "source": [
    "Outro problema com esse algoritmo é que necessariamente as funções de ativação devem ser diferenciáveis o que limita o conjunto de funções que podem ser consideradas."
   ]
  },
  {
   "cell_type": "markdown",
   "metadata": {
    "slideshow": {
     "slide_type": "slide"
    }
   },
   "source": [
    "<!--- Ilustrar o problema de ser um modelo simples demais (linear) ou de ser caixa preta (redes neurais) -->\n",
    "O modelo linear é facilmente interpretável e, embora seja capaz de descrever uma grande quantidade de dados experimentais, não é capaz de descrever relações mais complicadas entre as variáveis. Já um modelo gerado por uma rede neural, por ser um aproximador universal é capaz de modelar qualquer conjunto de dados, entetanto, gera um modelo caixa preta, que não pode ser facilmente interpretado."
   ]
  },
  {
   "cell_type": "markdown",
   "metadata": {
    "slideshow": {
     "slide_type": "slide"
    }
   },
   "source": [
    "## Regressão Simbólica\n",
    "\n",
    "Quando se tem interesse em um modelo com capacidade de interpretação semântica, utiliza-se a técnica da **regressão simbólica**, que fornece um modelo simples e, ainda assim, de erro mínimo. A regressão simbólica otimiza não apenas os parâmetros, mas também as funções usadas pelo modelo, com os objetivos de minimizar o erro de aproximação e maximizar a simplicidade da expressão."
   ]
  },
  {
   "cell_type": "markdown",
   "metadata": {
    "slideshow": {
     "slide_type": "slide"
    }
   },
   "source": [
    "Um modelo de regressão simbólica que produz soluções simples, mesmo que com precisão menor que os modelos caixas pretas, pode ser desejável em diversas situações nas quais o objetivo é compreender o sistema, por exemplo fenômenos físicos, ou quando explicar o modelo é necessário para extrair conhecimento do sistema, e, até mesmo, para validar o modelo,"
   ]
  },
  {
   "cell_type": "markdown",
   "metadata": {
    "slideshow": {
     "slide_type": "slide"
    }
   },
   "source": [
    "### Exemplos\n",
    "\n",
    "- um modelo que automatiza as decisões de um juiz: não pode ter viés;\n",
    "- modelo que toma as decisões de um sistema de inteligência artificial que conduz um veículo de passageiros autonomamente;\n",
    "- muitas empresas online que usam algoritmos para otimizar as ofertas que fazem aos usuários, como a Netflix, a Amazon."
   ]
  },
  {
   "cell_type": "markdown",
   "metadata": {
    "slideshow": {
     "slide_type": "slide"
    }
   },
   "source": [
    "## Programação Genética\n",
    "\n",
    "A técnica da **programação genética** é utilizada para regressão simbólica pois pode gerar as expressões matemáticas usadsas no modelo. Essa técnica se baseia nos conceitos de evolução e seleção natural de entidades, que nesse caso são as expressões matemáticas. "
   ]
  },
  {
   "cell_type": "markdown",
   "metadata": {
    "slideshow": {
     "slide_type": "slide"
    }
   },
   "source": [
    "Para representar as funções que passarão pelas etapas de **cruzamento**, **mutação**, e **seleção**, utiliza-se a representação de **árvore de expressão**. Cada nó interno representa uma operação, cujo resultado é o operando do nó pai, e cada nó folha representa um operando na forma de uma constante numérica ou uma variável do problema."
   ]
  },
  {
   "attachments": {},
   "cell_type": "markdown",
   "metadata": {
    "slideshow": {
     "slide_type": "slide"
    }
   },
   "source": [
    "###  Árvore de expressão\n",
    "\n",
    "![arvore.png](figures/png/arvore.png)"
   ]
  },
  {
   "cell_type": "markdown",
   "metadata": {
    "slideshow": {
     "slide_type": "slide"
    }
   },
   "source": [
    "Tanto a operação de cruzamento como a de mutação podem gerar soluções com poucas relações semânticas com as soluções originais, ou seja, uma boa solução pode se tornar uma solução ruim com apenas uma pequena alteração. Além disso, dependendo das escolhas feitas durante esse processo, as expressões podem se tornar cada vez mais complexas."
   ]
  },
  {
   "cell_type": "markdown",
   "metadata": {
    "slideshow": {
     "slide_type": "slide"
    }
   },
   "source": [
    "## Representação Interação-Transformação\n",
    "\n",
    "Dado um conjunto de dados representado por uma matriz $X_{(r \\times d)}$, e um vetor de variáveis alvo $y$, a representação Interação-Transformação (IT) foi definida como as funções representáveis pela forma:\n",
    "\\begin{equation}\n",
    "\\hat{y} = \\sum_i w_i \\cdot g_i(\\mathbf{x}),\n",
    "\\label{eq:it}\n",
    "\\end{equation}\n",
    "onde $w_i$ são coeficientes de uma regressão linear dos componentes $g_i(.)$ que são funções compostas $g(.) = t(.) \\circ p(.)$, com $t : \\mathbb{R} \\rightarrow \\mathbb{R}$ uma função de transformação, e $p : \\mathbb{R}^d \\rightarrow \\mathbb{R}$ uma função de interação da forma:\n",
    "\\begin{equation}\n",
    "p(\\mathbf{x}) = \\prod_{i=1}^d x_i^{e_i},\n",
    "\\end{equation}\n",
    "onde $e_i \\in \\mathbb{Z}$ são expoentes inteiros, denominados força da interação."
   ]
  },
  {
   "cell_type": "markdown",
   "metadata": {
    "slideshow": {
     "slide_type": "slide"
    }
   },
   "source": [
    "### Exemplo\n",
    "\n",
    "Para exemplificar a estrutura IT, considere a função:\n",
    "\\begin{equation}\n",
    "f(\\mathbf{x}) = 3.5 \\cos{(x_1^2 x_2)} + 5 \\sqrt{\\frac{x_2^3}{x_1}},\n",
    "\\end{equation}\n",
    "que pode ser descrita como\n",
    "\\begin{equation}\n",
    "\\mathbf{t}(z) = [\\cos{z}, \\sqrt{z}]\n",
    "\\end{equation}\n",
    "\\begin{equation}\n",
    "\\mathbf{p}(\\mathbf{x}) = [x_1^2 x_2, x_1^{-1} x_2^3]\n",
    "\\end{equation}\n",
    "\\begin{equation}\n",
    "\\mathbf{w} = [3.5, 5.]\n",
    "\\end{equation}"
   ]
  },
  {
   "cell_type": "markdown",
   "metadata": {
    "slideshow": {
     "slide_type": "slide"
    }
   },
   "source": [
    "## Extreme Learning Machine\n",
    "\n",
    "A ideia básica do **Extreme Learning Machine** para **Redes Neurais** é a de projeções aleatórias, ou seja, amostrar muitos neurônios nas camadas escondidas, inicializando-os de forma aleatória, e ajustar apenas a camada de saída através de regressão linear."
   ]
  },
  {
   "cell_type": "markdown",
   "metadata": {
    "slideshow": {
     "slide_type": "slide"
    }
   },
   "source": [
    "Por reduzir o problema para uma regressão linear, o algoritmo ELM é capaz de treinar uma rede neural muito mais rapidamente e, mesmo assim, com boa performance de regressão. Além disso, também foi provada sua capacidade de aproximador universal."
   ]
  },
  {
   "cell_type": "markdown",
   "metadata": {
    "slideshow": {
     "slide_type": "slide"
    }
   },
   "source": [
    "## Interaction Transformation Extreme Learning Machine\n",
    "\n",
    "![itelm.png](figures/png/itelm.png)"
   ]
  },
  {
   "cell_type": "markdown",
   "metadata": {
    "slideshow": {
     "slide_type": "slide"
    }
   },
   "source": [
    "## Experimentos\n",
    "\n",
    "A fim de avaliar o modelo proposto, foram usadas $10$ bases de dados reais, separadas entre treino e teste utilizando\n",
    "k-fold com $k = 5$. Para cada um dos experimentos, a raiz quadrada do erro quadrático médio é calculada (RMSE). Os resultados obtidos pelo algoritmo proposto foram comparados com os resultados dos algoritmos **Lasso**, **Ridge**, **ElasticNet**, **Lars**, **Gradient Boosting** e **MLP**.\n",
    "\n",
    "\\begin{equation}\n",
    "RMSE = \\sqrt{\\frac{1}{n} \\sum_{i=1}^n (y_i - \\hat{y}_i)^2}.\n",
    "\\end{equation}"
   ]
  },
  {
   "cell_type": "markdown",
   "metadata": {
    "slideshow": {
     "slide_type": "slide"
    }
   },
   "source": [
    "### Bases de dados reais usadas nos experimentos\n",
    "\n",
    "|    **Nome**   | **Tamanho** | **Variáveis** |\n",
    "|:-------------:|:-----------:|:-------------:|\n",
    "|    Airfoil    |    $1503$   |      $5$      |\n",
    "|    Concrete   |    $1030$   |      $8$      |\n",
    "|      cpu      |    $209$    |      $7$      |\n",
    "| EnergyCooling |    $768$    |      $8$      |\n",
    "| EnergyHeating |    $768$    |      $8$      |\n",
    "|  Forestfires  |    $517$    |      $9$      |\n",
    "|   TowerData   |    $4999$   |      $25$     |\n",
    "|    WineRed    |    $1599$   |      $11$     |\n",
    "|   WineWhite   |    $4898$   |      $11$     |\n",
    "|     Yacht     |    $308$    |      $6$      |\n"
   ]
  },
  {
   "cell_type": "markdown",
   "metadata": {
    "slideshow": {
     "slide_type": "slide"
    }
   },
   "source": [
    "### Valores de parâmetros considerados para o algoritmo IT-ELM\n",
    "\n",
    "|         **Parâmetro**        |                           **Valores**                          |\n",
    "|:----------------------------:|:--------------------------------------------------------------:|\n",
    "| neurônios da primeira camada |                   $[10d, 100d, 500d, 1000d]$                   |\n",
    "|   $(min_{exp}, max_{exp})$   | $[(-4,4), (-3,3) ,(-2,2), (-1,1), (0,1), (0,2), (0,3), (0,4)]$ |\n",
    "|    algoritmo de regressão    |                           Lars, Lasso                          |"
   ]
  },
  {
   "cell_type": "markdown",
   "metadata": {
    "slideshow": {
     "slide_type": "slide"
    }
   },
   "source": [
    "### Valores de parâmetros selecionados para o algoritmo IT-ELM\n",
    "\n",
    "|  **Dataset**  |   $n$  |   $min_{exp}$   | $max_{exp}$ | **Regressão** |\n",
    "|:-------------:|:------:|:---------------:|:-----------:|:-------------:|\n",
    "|    Airfoil    |  $10$  |       $-2$      |     $2$     |      Lars     |\n",
    "|    Concrete   |  $500$ |       $-2$      |     $2$     |      Lars     |\n",
    "|      cpu      | $1000$ |       $-3$      |     $3$     |      Lars     |\n",
    "| EnergyCooling |  $500$ |       $-2$      |     $2$     |      Lars     |\n",
    "| EnergyHeating |  $500$ | $\\hphantom{-}0$ |     $4$     |      Lars     |\n",
    "|  Forestfires  |  $10$  |       $-2$      |     $2$     |     Lasso     |\n",
    "|   TowerData   |  $10$  | $\\hphantom{-}0$ |     $2$     |      Lars     |\n",
    "|    WineRed    |  $100$ |       $-1$      |     $1$     |      Lars     |\n",
    "|   WineWhite   |  $100$ |       $-1$      |     $1$     |      Lars     |\n",
    "|     Yacht     |  $100$ |       $-3$      |     $3$     |      Lars     |"
   ]
  },
  {
   "cell_type": "markdown",
   "metadata": {
    "slideshow": {
     "slide_type": "slide"
    }
   },
   "source": [
    "## Resultados"
   ]
  },
  {
   "cell_type": "markdown",
   "metadata": {
    "slideshow": {
     "slide_type": "slide"
    }
   },
   "source": [
    "### Comparação de RMSE com Regressão Linear\n",
    "\n",
    "|  **Dataset**  | **Lasso** | **Ridge** | **ElasticNet** | **Lars** |      **IT**      | **IT simpl.** |\n",
    "|:-------------:|:---------:|:---------:|:--------------:|:--------:|:----------------:|:-------------:|\n",
    "|    Airfoil    |   $6.14$  |   $4.86$  |     $6.17$     |  $4.82$  |  $\\mathbf{2.89}$ |     $3.37$    |\n",
    "|    Concrete   |   $10.4$  |   $10.4$  |     $10.4$     |  $10.4$  |  $\\mathbf{4.89}$ |     $8.13$    |\n",
    "|      cpu      |   $42.1$  |   $35.0$  |     $45.8$     |  $34.5$  |  $\\mathbf{2.26}$ |     $75.0$    |\n",
    "| EnergyCooling |   $4.08$  |   $3.25$  |     $4.41$     |  $3.21$  | $\\mathbf{0.990}$ |     $2.06$    |\n",
    "| EnergyHeating |   $4.24$  |   $2.97$  |     $4.50$     |  $2.94$  | $\\mathbf{0.321}$ |     $16.7$    |\n",
    "|  Forestfires  |   $51.8$  |   $53.2$  |     $51.8$     |  $52.1$  |  $\\mathbf{51.8}$ |     $51.8$    |\n",
    "|   TowerData   |   $33.9$  |   $30.6$  |     $43.7$     |  $30.8$  |  $\\mathbf{14.7}$ |     $122$     |\n",
    "|    WineRed    |   $0.656$ |  $0.651$  |     $0.658$    |  $0.651$ | $\\mathbf{0.631}$ |    $0.633$    |\n",
    "|   WineWhite   |   $0.762$ |  $0.758$  |     $0.769$    |  $0.755$ | $\\mathbf{0.708}$ |    $0.710$    |\n",
    "|     Yacht     |   $8.97$  |   $9.00$  |     $9.07$     |  $8.98$  | $\\mathbf{0.693}$ |    $0.693$    |"
   ]
  },
  {
   "cell_type": "markdown",
   "metadata": {
    "slideshow": {
     "slide_type": "slide"
    }
   },
   "source": [
    "### Comparação de RMSE com MLP e GBoost\n",
    "\n",
    "|  **Dataset**  | **MLP** |    **GBoost**    |      **IT**      | **IT simpl.** |\n",
    "|:-------------:|:-------:|:----------------:|:----------------:|:-------------:|\n",
    "|    Airfoil    |  $4.85$ | $\\mathbf{2.19}$  | $2.89$           |     $3.37$    |\n",
    "|    Concrete   |  $7.77$ | $\\mathbf{4.76}$  | $4.89$           |     $8.13$    |\n",
    "|      cpu      |  $45.5$ | $42.7$           | $\\mathbf{2.26}$  |     $75.0$    |\n",
    "| EnergyCooling |  $3.34$ | $\\mathbf{0.835}$ | $0.990$          |     $2.06$    |\n",
    "| EnergyHeating |  $2.73$ | $0.383$          | $\\mathbf{0.321}$ |     $16.7$    |\n",
    "|  Forestfires  |  $51.8$ | $52.1$           | $\\mathbf{51.8}$  |     $51.8$    |\n",
    "|   TowerData   |  $18.6$ | $18.0$           | $\\mathbf{14.7}$  |     $122$     |\n",
    "|    WineRed    | $0.630$ | $\\mathbf{0.606}$ | $0.631$          |    $0.633$    |\n",
    "|   WineWhite   | $0.695$ | $\\mathbf{0.676}$ | $0.708$          |    $0.710$    |\n",
    "|     Yacht     |  $3.89$ | $0.898$          | $\\mathbf{0.693}$ |    $0.693$    |"
   ]
  },
  {
   "cell_type": "markdown",
   "metadata": {
    "slideshow": {
     "slide_type": "slide"
    }
   },
   "source": [
    "### Comparação de complexidade com MLP e GBoost\n",
    "\n",
    "|  **Dataset**  | **MLP** | **GBoost** | **IT** | **IT simpl.** |\n",
    "|:-------------:|:-------:|:----------:|:------:|:-------------:|\n",
    "|    Airfoil    |  $2500$ |   $2724$   |  $176$ |     $140$     |\n",
    "|    Concrete   |  $4000$ |   $2860$   |  $955$ |     $862$     |\n",
    "|      cpu      |  $4560$ |   $1474$   |  $702$ |     $624$     |\n",
    "| EnergyCooling |  $4000$ |   $1832$   |  $702$ |     $624$     |\n",
    "| EnergyHeating |  $4360$ |   $2455$   | $1486$ |     $1443$    |\n",
    "|  Forestfires  |  $4130$ |    $177$   |   $8$  |      $0$      |\n",
    "|   TowerData   |  $7500$ |   $3006$   | $8872$ |     $4148$    |\n",
    "|    WineRed    |  $880$  |   $2134$   |  $302$ |     $293$     |\n",
    "|   WineWhite   |  $5620$ |   $2818$   |  $693$ |     $674$     |\n",
    "|     Yacht     |  $5600$ |   $1013$   |  $489$ |     $489$     |"
   ]
  },
  {
   "cell_type": "markdown",
   "metadata": {
    "slideshow": {
     "slide_type": "slide"
    }
   },
   "source": [
    "## Expressão (airfoil)\n",
    "\n",
    "![expr_airfoil.png](figures/png/expr_airfoil.png)"
   ]
  },
  {
   "cell_type": "markdown",
   "metadata": {
    "slideshow": {
     "slide_type": "slide"
    }
   },
   "source": [
    "## Expressão Simplificada (airfoil)\n",
    "\n",
    "Remover partes da expressão cujo valor absoluto do coeficiente está abaixo de $0.0001$.\n",
    "\n",
    "![expr_airfoil_simpl.png](figures/png/expr_airfoil_simpl.png)"
   ]
  },
  {
   "cell_type": "markdown",
   "metadata": {
    "slideshow": {
     "slide_type": "slide"
    }
   },
   "source": [
    "## Conclusão\n",
    "\n",
    "Os testes realizados tinham por objetivo atingir um bom balanço entre baixo erro e baixa complexidade, entretanto, obtivemos resultados de menor erro do que os algoritmos mencionados, na maioria dos casos, enquanto mantivemos uma menor complexidade que os modelos ditos caixa-preta. Embora o modelo esteja efetivamente mais simples que os outros modelos de regressão não-linear, ainda estão distantes de uma expressão interpretável."
   ]
  },
  {
   "cell_type": "markdown",
   "metadata": {
    "slideshow": {
     "slide_type": "slide"
    }
   },
   "source": [
    "## Trabalhos Futuros\n",
    "\n",
    "- Funções de transformação adicionais como $log$\n",
    "- Estudo de algoritmos de otimização esparsa\n",
    "- Aplicação de algoritmos de diferenciação automática para utilizar o gradiente descendente em todas as camadas\n",
    "- Redução da complexidade da expressão limitando o número de interações por termos, e o número total de termos\n",
    "- Aplicar algoritmos evolutivos (neuroevolução) para ajustar automaticamente os pesos e a topologia\n",
    "\n",
    "Esperamos que a expressão final gerada possa ser simplificada a ponto de ser facilmente interpretada."
   ]
  }
 ],
 "metadata": {
  "celltoolbar": "Slideshow",
  "kernelspec": {
   "display_name": "Python 3",
   "language": "python",
   "name": "python3"
  },
  "language_info": {
   "codemirror_mode": {
    "name": "ipython",
    "version": 3
   },
   "file_extension": ".py",
   "mimetype": "text/x-python",
   "name": "python",
   "nbconvert_exporter": "python",
   "pygments_lexer": "ipython3",
   "version": "3.6.6"
  }
 },
 "nbformat": 4,
 "nbformat_minor": 2
}
