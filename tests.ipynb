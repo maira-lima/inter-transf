{
 "cells": [
  {
   "cell_type": "code",
   "execution_count": 1,
   "metadata": {
    "scrolled": true
   },
   "outputs": [],
   "source": [
    "import numpy as np\n",
    "import pandas as pd\n",
    "from sklearn.metrics import mean_squared_error\n",
    "from sklearn.linear_model import LassoCV, LassoLarsCV\n",
    "import warnings\n",
    "import sys\n",
    "import os\n",
    "import pickle\n",
    "from sympy import *\n",
    "# ignoramos os resultados NaN das funções pois vamos zera-los\n",
    "np.seterr(invalid='ignore')\n",
    "# nao quero warning de convergência\n",
    "warnings.filterwarnings('ignore')"
   ]
  },
  {
   "cell_type": "code",
   "execution_count": 2,
   "metadata": {
    "scrolled": true
   },
   "outputs": [],
   "source": [
    "def getResults(fname):\n",
    "    dataset = []\n",
    "    algoritmo = []\n",
    "    msre_l = []\n",
    "    coef_l = []\n",
    "    rede_l = []\n",
    "    if os.path.exists(fname):\n",
    "        fw = open(fname, 'rb')\n",
    "        dataset, algoritmo, msre_l, coef_l, rede_l = pickle.load(fw)\n",
    "        fw.close()\n",
    "    return dataset, algoritmo, msre_l, coef_l, rede_l"
   ]
  },
  {
   "cell_type": "code",
   "execution_count": 3,
   "metadata": {
    "scrolled": true
   },
   "outputs": [],
   "source": [
    "def storeResults(dataset, algoritmo, msre_l, coef_l, rede_l, fname):\n",
    "    fw = open(fname, 'wb')\n",
    "    pickle.dump((dataset, algoritmo, msre_l, coef_l, rede_l), fw)\n",
    "    fw.close()"
   ]
  },
  {
   "cell_type": "code",
   "execution_count": 4,
   "metadata": {
    "scrolled": true
   },
   "outputs": [],
   "source": [
    "def msre(y_true, y_pred):\n",
    "    return np.sqrt(mean_squared_error(y_true, y_pred))"
   ]
  },
  {
   "cell_type": "code",
   "execution_count": 5,
   "metadata": {
    "scrolled": true
   },
   "outputs": [],
   "source": [
    "def importaDados(fname):\n",
    "    dataset = np.loadtxt(fname, delimiter=\",\")\n",
    "    X = dataset[:, :-1]\n",
    "    y = dataset[:, -1]\n",
    "    return (X, y)"
   ]
  },
  {
   "cell_type": "code",
   "execution_count": 6,
   "metadata": {
    "scrolled": true
   },
   "outputs": [],
   "source": [
    "def geraRede(X, n_inter, inter_min=0, inter_max=3):\n",
    "    n_inputs = X.shape[1]\n",
    "    rede = np.random.randint(inter_min, inter_max, size=(n_inputs, n_inter))\n",
    "    for i in range(0, n_inputs):\n",
    "        if 0 in X[:,i]:\n",
    "            rede[i,:] = np.absolute(rede[i,:])\n",
    "    return rede"
   ]
  },
  {
   "cell_type": "code",
   "execution_count": 7,
   "metadata": {
    "scrolled": true
   },
   "outputs": [],
   "source": [
    "def transformData(X, rede):\n",
    "    n_rows = X.shape[0]\n",
    "    n_inter = rede.shape[1]\n",
    "    layers = np.ndarray((n_rows, 3*n_inter))\n",
    "    for i in range(0, n_inter*3, 3):\n",
    "        power = X**rede[:,int(i/3)]\n",
    "        layers[:,i] = np.prod(power,axis=1) # id\n",
    "        layers[:,i+1] = np.cos(layers[:,i]) # cos\n",
    "        layers[:,i+2] = np.sqrt(layers[:,i]) # sqrt\n",
    "    cols = np.any(np.isnan(layers), axis=0)\n",
    "    layers[:, cols] = 0\n",
    "    cols = np.any(np.isinf(layers), axis=0)\n",
    "    layers[:, cols] = 0\n",
    "    return layers"
   ]
  },
  {
   "cell_type": "code",
   "execution_count": 8,
   "metadata": {
    "scrolled": true
   },
   "outputs": [],
   "source": [
    "def fit(X, y, algoritmo, n_inter, inter_min=0, inter_max=3):\n",
    "    n_inputs = X.shape[1]\n",
    "    rede = geraRede(X, n_inter, inter_min, inter_max)\n",
    "    X_transf = transformData(X, rede)\n",
    "    if algoritmo == 'lasso':\n",
    "        modelo = LassoCV(max_iter=5e4, cv=3)\n",
    "    elif algoritmo == 'lassoLars':\n",
    "        modelo = LassoLarsCV(max_iter=5e4, cv=3)\n",
    "    modelo.fit(X_transf, y)\n",
    "    return rede, modelo"
   ]
  },
  {
   "cell_type": "code",
   "execution_count": 9,
   "metadata": {
    "scrolled": true
   },
   "outputs": [],
   "source": [
    "def predict(X, rede, modelo):\n",
    "    X_transf = transformData(X, rede)\n",
    "    y_hat = modelo.predict(X_transf)\n",
    "    return y_hat"
   ]
  },
  {
   "cell_type": "code",
   "execution_count": 10,
   "metadata": {
    "scrolled": true
   },
   "outputs": [],
   "source": [
    "def expression(rede, coef, limiar):\n",
    "    n_inter = rede.shape[1]\n",
    "    n_inputs = rede.shape[0]\n",
    "    fun = ['', 'cos', 'sqrt']\n",
    "    expr = ''\n",
    "    total = 0\n",
    "    compl = 0\n",
    "    for i in range(n_inter):\n",
    "        inter = ''\n",
    "        exps = 0\n",
    "        for j in range(n_inputs):\n",
    "            if rede[j,i] != 0:\n",
    "                exps += 1\n",
    "                inter = inter + f'x{j}**{rede[j,i]}*'\n",
    "        inter = inter[:-1]\n",
    "        transf = ''\n",
    "        for f in range(3):\n",
    "            k = (i*3)+f\n",
    "            if np.absolute(coef[k]) > limiar:\n",
    "                compl += exps\n",
    "                total = total + 1\n",
    "                transf = transf + f'{coef[k]}*{fun[f]}({inter}) + '\n",
    "        expr = expr + transf\n",
    "    expr = expr + f'{coef[k+1]}'\n",
    "    return expr, total, compl"
   ]
  },
  {
   "cell_type": "code",
   "execution_count": 11,
   "metadata": {
    "scrolled": true
   },
   "outputs": [],
   "source": [
    "def evaluate(row, rede, coef, limiar):\n",
    "    n_inter = rede.shape[1]\n",
    "    n_inputs = rede.shape[0]\n",
    "    total = 0.0\n",
    "    for i in range(n_inter):\n",
    "        inter = 1.0\n",
    "        for j in range(n_inputs):\n",
    "            inter *= np.power(float(row[j]),rede[j,i])\n",
    "        transf = 0.0\n",
    "        if np.absolute(coef[i*3+0]) > limiar:\n",
    "            transf += coef[(i*3)+0]*inter\n",
    "        if np.absolute(coef[i*3+1]) > limiar:\n",
    "            transf += coef[(i*3)+1]*np.cos(inter)\n",
    "        if np.absolute(coef[i*3+2]) > limiar:\n",
    "            transf += coef[(i*3)+2]*np.sqrt(inter)\n",
    "        total += transf\n",
    "    total += coef[-1]\n",
    "    return total"
   ]
  },
  {
   "cell_type": "code",
   "execution_count": 12,
   "metadata": {
    "scrolled": true
   },
   "outputs": [],
   "source": [
    "datasets = ['airfoil', 'concrete', 'cpu', 'energyCooling', 'energyHeating', 'forestfires', 'towerData', 'wineRed', 'wineWhite', 'yacht']\n",
    "algoritmos = ['lassoLars', 'lassoLars', 'lassoLars', 'lassoLars', 'lassoLars', 'lasso', 'lassoLars', 'lassoLars', 'lassoLars', 'lassoLars']\n",
    "ninters = [10, 500, 1000, 500, 500, 10, 10, 100, 100, 100]\n",
    "inter_mins = [-2, -2, -3, -2, 0, -2, 0, -1, -1, -3]\n",
    "inter_maxs = [2, 2, 3, 2, 4, 2, 2, 1, 1, 3]\n",
    "pastas = ['0', '1', '2', '3', '4']"
   ]
  },
  {
   "cell_type": "code",
   "execution_count": 30,
   "metadata": {
    "scrolled": true
   },
   "outputs": [],
   "source": [
    "dataset_l = []\n",
    "algoritmo_l = []\n",
    "msre_l = []\n",
    "coef_l = []\n",
    "rede_l = []\n",
    "compl_l = [0 for x in range(10)]"
   ]
  },
  {
   "cell_type": "code",
   "execution_count": null,
   "metadata": {
    "scrolled": true
   },
   "outputs": [],
   "source": [
    "# faça esse somente para rodar todos os testes novamente\n",
    "for i in range(10):\n",
    "    dataset_l.append(datasets[i])\n",
    "    algoritmo_l.append(f'{algoritmos[i]} {ninters[i]} ({inter_mins[i]} {inter_maxs[i]})')\n",
    "    msre_pastas = []\n",
    "    coef_pastas = []\n",
    "    rede_pastas  =[]\n",
    "    print(datasets[i])\n",
    "    for pasta in pastas:\n",
    "        fileTrain = 'datasets/' + datasets[i] + '-train-' + pasta + '.dat'\n",
    "        fileTest = 'datasets/' + datasets[i] + '-test-' + pasta + '.dat'\n",
    "        X_train, y_train = importaDados(fileTrain)\n",
    "        X_test, y_test = importaDados(fileTest)\n",
    "        n = X_train.shape[1]\n",
    "        rede, modelo = fit(X_train, y_train, algoritmos[i], ninters[i]*n, inter_mins[i], inter_maxs[i]+1)\n",
    "        y_hat = predict(X_test, rede, modelo)\n",
    "        msre_pastas.append(msre(y_test, y_hat))\n",
    "        coef = np.append(modelo.coef_, modelo.intercept_)\n",
    "        coef_pastas.append(coef)\n",
    "        rede_pastas.append(rede)\n",
    "    m = len(pastas)\n",
    "    msre_medio = np.sum(msre_pastas)/m\n",
    "    msre_l.append(msre_medio)\n",
    "    min_i = np.argmin(msre_pastas)\n",
    "    #print(f'{datasets[i]} {algoritmos[i]} {ninters[i]} ({inter_mins[i]} {inter_maxs[i]}) msre: {msre_medio}')\n",
    "    #print('total de coeficientes não-zeros:', np.count_nonzero(coef_pastas[min_i]))\n",
    "    coef_l.append(coef_pastas[min_i])\n",
    "    rede_l.append(rede_pastas[min_i])\n",
    "\n",
    "storeResults(dataset_l, algoritmo_l, msre_l, coef_l, rede_l, 'tests.pkl')"
   ]
  },
  {
   "cell_type": "code",
   "execution_count": 31,
   "metadata": {
    "scrolled": false
   },
   "outputs": [],
   "source": [
    "# faça esse ao invés da acima para carregar os resultados salvos\n",
    "dataset_l, algoritmo_l, msre_l, coef_l, rede_l = getResults('tests.pkl')"
   ]
  },
  {
   "cell_type": "code",
   "execution_count": 37,
   "metadata": {
    "scrolled": true
   },
   "outputs": [],
   "source": [
    "thr = 1e-04\n",
    "#thr = 0"
   ]
  },
  {
   "cell_type": "code",
   "execution_count": 14,
   "metadata": {
    "scrolled": true
   },
   "outputs": [],
   "source": [
    "init_printing(use_unicode=True)"
   ]
  },
  {
   "cell_type": "code",
   "execution_count": 18,
   "metadata": {
    "scrolled": true
   },
   "outputs": [
    {
     "name": "stdout",
     "output_type": "stream",
     "text": [
      "airfoil total de coeficientes não-zeros com thr 0 : 44\n"
     ]
    }
   ],
   "source": [
    "expr, nz = expression(rede_l[0], coef_l[0], thr)\n",
    "print(dataset_l[0], 'total de coeficientes não-zeros com thr', thr, ':', nz)"
   ]
  },
  {
   "cell_type": "code",
   "execution_count": null,
   "metadata": {
    "scrolled": true
   },
   "outputs": [],
   "source": [
    "sympify(expr)"
   ]
  },
  {
   "cell_type": "code",
   "execution_count": null,
   "metadata": {
    "scrolled": true
   },
   "outputs": [],
   "source": [
    "latex(sympify(expr))"
   ]
  },
  {
   "cell_type": "code",
   "execution_count": 38,
   "metadata": {
    "scrolled": true
   },
   "outputs": [],
   "source": [
    "for i in range(10):\n",
    "    dataset_l.append(datasets[i])\n",
    "    msre_total = 0\n",
    "    for pasta in pastas:\n",
    "        fileTest = 'datasets/' + datasets[i] + '-test-' + pasta + '.dat'\n",
    "        X_test, y_test = importaDados(fileTest)\n",
    "        m, n = X_test.shape\n",
    "        y_hat = []\n",
    "        for r in range(m):\n",
    "            y_hat.append(evaluate(X_test[r], rede_l[i], coef_l[i], thr))\n",
    "        msre_total += msre(y_test, y_hat)\n",
    "    m = len(pastas)\n",
    "    msre_medio = msre_total/m\n",
    "    msre_l.append(msre_medio)\n",
    "    expr, nz, compl = expression(rede_l[i], coef_l[i], thr)\n",
    "    algoritmo_l.append(f'thr {thr} termos {nz}')\n",
    "    compl_l.append(compl)"
   ]
  },
  {
   "cell_type": "code",
   "execution_count": 39,
   "metadata": {
    "scrolled": true
   },
   "outputs": [],
   "source": [
    "# gerar o dataframe de resultados\n",
    "df_IT = pd.DataFrame({'dataset':dataset_l, 'algoritmo':algoritmo_l, 'rmse':msre_l, 'complexidade':compl_l})"
   ]
  },
  {
   "cell_type": "code",
   "execution_count": 40,
   "metadata": {
    "scrolled": true
   },
   "outputs": [],
   "source": [
    "# salvar o df no arquivo\n",
    "fw = open('df_IT.pkl', 'wb')\n",
    "pickle.dump(df_IT, fw)\n",
    "fw.close()"
   ]
  },
  {
   "cell_type": "code",
   "execution_count": null,
   "metadata": {
    "scrolled": true
   },
   "outputs": [],
   "source": [
    "# carregar o df do arquivo de resultados\n",
    "fw = open('df_IT.pkl', 'rb')\n",
    "df_IT = pickle.load(fw)\n",
    "fw.close()"
   ]
  },
  {
   "cell_type": "code",
   "execution_count": 27,
   "metadata": {
    "scrolled": true
   },
   "outputs": [],
   "source": [
    "# carregar o df do arquivo de resultados dos outros algoritmos\n",
    "fw = open('df_GS.pkl', 'rb')\n",
    "df_GS = pickle.load(fw)\n",
    "fw.close()"
   ]
  },
  {
   "cell_type": "code",
   "execution_count": 41,
   "metadata": {
    "scrolled": true
   },
   "outputs": [],
   "source": [
    "# unir os resultados desses testes com os testes do GridSearch\n",
    "df = pd.concat([df_IT, df_GS], ignore_index=True)"
   ]
  },
  {
   "cell_type": "code",
   "execution_count": 42,
   "metadata": {
    "scrolled": false
   },
   "outputs": [
    {
     "name": "stdout",
     "output_type": "stream",
     "text": [
      "\n",
      "     dataset             algoritmo      rmse  complexidade\n",
      "0   airfoil   lassoLars 10 (-2 2)  3.186071           0.0\n",
      "10  airfoil       thr 0 termos 44  2.892753         176.0\n",
      "20  airfoil  thr 0.0001 termos 35  3.373114         140.0\n",
      "30  airfoil                 Ridge  4.862221           0.0\n",
      "31  airfoil                 Lasso  6.142515           0.0\n",
      "32  airfoil                  Lars  4.819300           0.0\n",
      "33  airfoil            ElasticNet  6.169792           0.0\n",
      "34  airfoil               XGBoost  2.186955        2724.4\n",
      "35  airfoil                   MLP  4.845749        2500.0\n",
      "\n",
      "      dataset              algoritmo       rmse  complexidade\n",
      "1   concrete   lassoLars 500 (-2 2)   6.666079           0.0\n",
      "11  concrete       thr 0 termos 171   4.898255         955.0\n",
      "21  concrete  thr 0.0001 termos 155   8.134276         862.0\n",
      "36  concrete                  Ridge  10.444737           0.0\n",
      "37  concrete                  Lasso  10.446343           0.0\n",
      "38  concrete                   Lars  10.443756           0.0\n",
      "39  concrete             ElasticNet  10.446860           0.0\n",
      "40  concrete                XGBoost   4.755594        2859.6\n",
      "41  concrete                    MLP   7.769328        4000.0\n",
      "\n",
      "    dataset              algoritmo       rmse  complexidade\n",
      "2      cpu  lassoLars 1000 (-3 3)  17.225196           0.0\n",
      "12     cpu       thr 0 termos 132   2.258656         702.0\n",
      "22     cpu  thr 0.0001 termos 115  74.954446         624.0\n",
      "42     cpu                  Ridge  34.904959           0.0\n",
      "43     cpu                  Lasso  42.059112           0.0\n",
      "44     cpu                   Lars  34.546549           0.0\n",
      "45     cpu             ElasticNet  45.780305           0.0\n",
      "46     cpu                XGBoost  42.723628        1474.0\n",
      "47     cpu                    MLP  45.472742        4560.0\n",
      "\n",
      "           dataset              algoritmo      rmse  complexidade\n",
      "3   energyCooling   lassoLars 500 (-2 2)  1.390665           0.0\n",
      "13  energyCooling       thr 0 termos 176  0.989866        1072.0\n",
      "23  energyCooling  thr 0.0001 termos 175  2.059950        1067.0\n",
      "48  energyCooling                  Ridge  3.246569           0.0\n",
      "49  energyCooling                  Lasso  4.082975           0.0\n",
      "50  energyCooling                   Lars  3.214723           0.0\n",
      "51  energyCooling             ElasticNet  4.405209           0.0\n",
      "52  energyCooling                XGBoost  0.835150        1832.8\n",
      "53  energyCooling                    MLP  3.344097        4000.0\n",
      "\n",
      "           dataset              algoritmo       rmse  complexidade\n",
      "4   energyHeating    lassoLars 500 (0 4)   0.471724           0.0\n",
      "14  energyHeating       thr 0 termos 243   0.320773        1486.0\n",
      "24  energyHeating  thr 0.0001 termos 233  16.742604        1443.0\n",
      "54  energyHeating                  Ridge   2.970699           0.0\n",
      "55  energyHeating                  Lasso   4.235185           0.0\n",
      "56  energyHeating                   Lars   2.942069           0.0\n",
      "57  energyHeating             ElasticNet   4.502519           0.0\n",
      "58  energyHeating                XGBoost   0.382725        2454.8\n",
      "59  energyHeating                    MLP   2.731003        4360.0\n",
      "\n",
      "         dataset            algoritmo       rmse  complexidade\n",
      "5   forestfires      lasso 10 (-2 2)  51.936347           0.0\n",
      "15  forestfires       thr 0 termos 1  51.789254           8.0\n",
      "25  forestfires  thr 0.0001 termos 0  51.834927           0.0\n",
      "60  forestfires                Ridge  53.223923           0.0\n",
      "61  forestfires                Lasso  51.769355           0.0\n",
      "62  forestfires                 Lars  52.100889           0.0\n",
      "63  forestfires           ElasticNet  51.774782           0.0\n",
      "64  forestfires              XGBoost  52.084572         177.2\n",
      "65  forestfires                  MLP  51.934925        4130.0\n",
      "\n",
      "       dataset              algoritmo        rmse  complexidade\n",
      "6   towerData     lassoLars 10 (0 2)   30.937945           0.0\n",
      "16  towerData       thr 0 termos 537   14.697715        8872.0\n",
      "26  towerData  thr 0.0001 termos 250  122.084789        4148.0\n",
      "66  towerData                  Ridge   30.615898           0.0\n",
      "67  towerData                  Lasso   33.934021           0.0\n",
      "68  towerData                   Lars   30.831966           0.0\n",
      "69  towerData             ElasticNet   43.741643           0.0\n",
      "70  towerData                XGBoost   18.010734        3006.4\n",
      "71  towerData                    MLP   18.631094        7500.0\n",
      "\n",
      "     dataset             algoritmo      rmse  complexidade\n",
      "7   wineRed  lassoLars 100 (-1 1)  0.654898           0.0\n",
      "17  wineRed       thr 0 termos 44  0.631131         302.0\n",
      "27  wineRed  thr 0.0001 termos 43  0.632757         293.0\n",
      "72  wineRed                 Ridge  0.650684           0.0\n",
      "73  wineRed                 Lasso  0.656002           0.0\n",
      "74  wineRed                  Lars  0.650573           0.0\n",
      "75  wineRed            ElasticNet  0.657719           0.0\n",
      "76  wineRed               XGBoost  0.606054        2133.6\n",
      "77  wineRed                   MLP  0.630312         880.0\n",
      "\n",
      "       dataset             algoritmo      rmse  complexidade\n",
      "8   wineWhite  lassoLars 100 (-1 1)  0.731470           0.0\n",
      "18  wineWhite       thr 0 termos 95  0.708114         693.0\n",
      "28  wineWhite  thr 0.0001 termos 92  0.709662         674.0\n",
      "78  wineWhite                 Ridge  0.757535           0.0\n",
      "79  wineWhite                 Lasso  0.762450           0.0\n",
      "80  wineWhite                  Lars  0.755358           0.0\n",
      "81  wineWhite            ElasticNet  0.768779           0.0\n",
      "82  wineWhite               XGBoost  0.675961        2817.6\n",
      "83  wineWhite                   MLP  0.694540        5620.0\n",
      "\n",
      "    dataset             algoritmo      rmse  complexidade\n",
      "9    yacht  lassoLars 100 (-3 3)  1.340805           0.0\n",
      "19   yacht       thr 0 termos 97  0.692884         489.0\n",
      "29   yacht  thr 0.0001 termos 97  0.692884         489.0\n",
      "84   yacht                 Ridge  8.996498           0.0\n",
      "85   yacht                 Lasso  8.972195           0.0\n",
      "86   yacht                  Lars  8.983248           0.0\n",
      "87   yacht            ElasticNet  9.067633           0.0\n",
      "88   yacht               XGBoost  0.898304        1013.2\n",
      "89   yacht                   MLP  3.893244        5600.0\n"
     ]
    }
   ],
   "source": [
    "datasets = df_IT.dataset.unique()\n",
    "for D in datasets:\n",
    "    print('\\n', df.loc[df['dataset'] == D])"
   ]
  },
  {
   "cell_type": "code",
   "execution_count": null,
   "metadata": {
    "scrolled": true
   },
   "outputs": [],
   "source": []
  }
 ],
 "metadata": {
  "kernelspec": {
   "display_name": "Python 3",
   "language": "python",
   "name": "python3"
  },
  "language_info": {
   "codemirror_mode": {
    "name": "ipython",
    "version": 3
   },
   "file_extension": ".py",
   "mimetype": "text/x-python",
   "name": "python",
   "nbconvert_exporter": "python",
   "pygments_lexer": "ipython3",
   "version": "3.6.6"
  }
 },
 "nbformat": 4,
 "nbformat_minor": 2
}
