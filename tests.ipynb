{
 "cells": [
  {
   "cell_type": "code",
   "execution_count": 1,
   "metadata": {},
   "outputs": [],
   "source": [
    "import numpy as np\n",
    "import pandas as pd\n",
    "from sklearn.metrics import mean_squared_error\n",
    "from sklearn.linear_model import LassoCV, LassoLarsCV\n",
    "import warnings\n",
    "import sys\n",
    "import os\n",
    "import pickle\n",
    "from sympy import *\n",
    "# ignoramos os resultados NaN das funções pois vamos zera-los\n",
    "np.seterr(invalid='ignore')\n",
    "# nao quero warning de convergência\n",
    "warnings.filterwarnings('ignore')"
   ]
  },
  {
   "cell_type": "code",
   "execution_count": 2,
   "metadata": {},
   "outputs": [],
   "source": [
    "def getResults(fname):\n",
    "    dataset = []\n",
    "    algoritmo = []\n",
    "    msre_l = []\n",
    "    coef_l = []\n",
    "    rede_l = []\n",
    "    if os.path.exists(fname):\n",
    "        fw = open(fname, 'rb')\n",
    "        dataset, algoritmo, msre_l, coef_l, rede_l = pickle.load(fw)\n",
    "        fw.close()\n",
    "    return dataset, algoritmo, msre_l, coef_l, rede_l"
   ]
  },
  {
   "cell_type": "code",
   "execution_count": 3,
   "metadata": {},
   "outputs": [],
   "source": [
    "def storeResults(dataset, algoritmo, msre_l, coef_l, rede_l, fname):\n",
    "    fw = open(fname, 'wb')\n",
    "    pickle.dump((dataset, algoritmo, msre_l, coef_l, rede_l), fw)\n",
    "    fw.close()"
   ]
  },
  {
   "cell_type": "code",
   "execution_count": 4,
   "metadata": {},
   "outputs": [],
   "source": [
    "def msre(y_true, y_pred):\n",
    "    return np.sqrt(mean_squared_error(y_true, y_pred))"
   ]
  },
  {
   "cell_type": "code",
   "execution_count": 5,
   "metadata": {},
   "outputs": [],
   "source": [
    "def importaDados(fname):\n",
    "    dataset = np.loadtxt(fname, delimiter=\",\")\n",
    "    X = dataset[:, :-1]\n",
    "    y = dataset[:, -1]\n",
    "    return (X, y)"
   ]
  },
  {
   "cell_type": "code",
   "execution_count": 6,
   "metadata": {},
   "outputs": [],
   "source": [
    "def geraRede(X, n_inter, inter_min=0, inter_max=3):\n",
    "    n_inputs = X.shape[1]\n",
    "    rede = np.random.randint(inter_min, inter_max, size=(n_inputs, n_inter))\n",
    "    for i in range(0, n_inputs):\n",
    "        if 0 in X[:,i]:\n",
    "            rede[i,:] = np.absolute(rede[i,:])\n",
    "    return rede"
   ]
  },
  {
   "cell_type": "code",
   "execution_count": 7,
   "metadata": {},
   "outputs": [],
   "source": [
    "def transformData(X, rede):\n",
    "    n_rows = X.shape[0]\n",
    "    n_inter = rede.shape[1]\n",
    "    layers = np.ndarray((n_rows, 3*n_inter))\n",
    "    for i in range(0, n_inter*3, 3):\n",
    "        power = X**rede[:,int(i/3)]\n",
    "        layers[:,i] = np.prod(power,axis=1) # id\n",
    "        layers[:,i+1] = np.cos(layers[:,i]) # cos\n",
    "        layers[:,i+2] = np.sqrt(layers[:,i]) # sqrt\n",
    "    cols = np.any(np.isnan(layers), axis=0)\n",
    "    layers[:, cols] = 0\n",
    "    cols = np.any(np.isinf(layers), axis=0)\n",
    "    layers[:, cols] = 0\n",
    "    return layers"
   ]
  },
  {
   "cell_type": "code",
   "execution_count": 8,
   "metadata": {},
   "outputs": [],
   "source": [
    "def fit(X, y, algoritmo, n_inter, inter_min=0, inter_max=3):\n",
    "    n_inputs = X.shape[1]\n",
    "    rede = geraRede(X, n_inter, inter_min, inter_max)\n",
    "    X_transf = transformData(X, rede)\n",
    "    if algoritmo == 'lasso':\n",
    "        modelo = LassoCV(max_iter=5e4, cv=3)\n",
    "    elif algoritmo == 'lassoLars':\n",
    "        modelo = LassoLarsCV(max_iter=5e4, cv=3)\n",
    "    modelo.fit(X_transf, y)\n",
    "    return rede, modelo"
   ]
  },
  {
   "cell_type": "code",
   "execution_count": 9,
   "metadata": {},
   "outputs": [],
   "source": [
    "def predict(X, rede, modelo):\n",
    "    X_transf = transformData(X, rede)\n",
    "    y_hat = modelo.predict(X_transf)\n",
    "    return y_hat"
   ]
  },
  {
   "cell_type": "code",
   "execution_count": 10,
   "metadata": {},
   "outputs": [],
   "source": [
    "def expression(rede, coef, limiar):\n",
    "    n_inter = rede.shape[1]\n",
    "    n_inputs = rede.shape[0]\n",
    "    fun = ['', 'cos', 'sqrt']\n",
    "    expr = ''\n",
    "    total = 0\n",
    "    for i in range(n_inter):\n",
    "        inter = ''\n",
    "        for j in range(n_inputs):\n",
    "            if rede[j,i] != 0:\n",
    "                inter = inter + f'x{j}**{rede[j,i]}*'\n",
    "        inter = inter[:-1]\n",
    "        transf = ''\n",
    "        for f in range(3):\n",
    "            k = (i*3)+f\n",
    "            if np.absolute(coef[k]) > limiar:\n",
    "                total = total + 1\n",
    "                transf = transf + f'{coef[k]}*{fun[f]}({inter}) + '\n",
    "        expr = expr + transf\n",
    "    expr = expr + f'{coef[k+1]}'\n",
    "    return expr, total"
   ]
  },
  {
   "cell_type": "code",
   "execution_count": 11,
   "metadata": {},
   "outputs": [],
   "source": [
    "def evaluate(row, rede, coef, limiar):\n",
    "    n_inter = rede.shape[1]\n",
    "    n_inputs = rede.shape[0]\n",
    "    total = 0.0\n",
    "    for i in range(n_inter):\n",
    "        inter = 1.0\n",
    "        for j in range(n_inputs):\n",
    "            inter *= np.power(float(row[j]),rede[j,i])\n",
    "        transf = 0.0\n",
    "        if np.absolute(coef[i*3+0]) > limiar:\n",
    "            transf += coef[(i*3)+0]*inter\n",
    "        if np.absolute(coef[i*3+1]) > limiar:\n",
    "            transf += coef[(i*3)+1]*np.cos(inter)\n",
    "        if np.absolute(coef[i*3+2]) > limiar:\n",
    "            transf += coef[(i*3)+2]*np.sqrt(inter)\n",
    "        total += transf\n",
    "    total += coef[-1]\n",
    "    return total"
   ]
  },
  {
   "cell_type": "code",
   "execution_count": 12,
   "metadata": {},
   "outputs": [],
   "source": [
    "datasets = ['airfoil', 'concrete', 'cpu', 'energyCooling', 'energyHeating', 'forestfires', 'towerData', 'wineRed', 'wineWhite', 'yacht']\n",
    "algoritmos = ['lassoLars', 'lassoLars', 'lassoLars', 'lassoLars', 'lassoLars', 'lasso', 'lassoLars', 'lassoLars', 'lassoLars', 'lassoLars']\n",
    "ninters = [10, 500, 1000, 500, 500, 10, 10, 100, 100, 100]\n",
    "inter_mins = [-2, -2, -3, -2, 0, -2, 0, -1, -1, -3]\n",
    "inter_maxs = [2, 2, 3, 2, 4, 2, 2, 1, 1, 3]\n",
    "pastas = ['0', '1', '2', '3', '4']"
   ]
  },
  {
   "cell_type": "code",
   "execution_count": null,
   "metadata": {
    "scrolled": false
   },
   "outputs": [],
   "source": [
    "# faça esse somente para rodar todos os testes novamente\n",
    "dataset_l = []\n",
    "algoritmo_l = []\n",
    "msre_l = []\n",
    "coef_l = []\n",
    "rede_l = []\n",
    "\n",
    "for i in range(10):\n",
    "    dataset_l.append(datasets[i])\n",
    "    algoritmo_l.append(f'{algoritmos[i]} {ninters[i]} ({inter_mins[i]} {inter_maxs[i]})')\n",
    "    msre_pastas = []\n",
    "    coef_pastas = []\n",
    "    rede_pastas  =[]\n",
    "    print(datasets[i])\n",
    "    for pasta in pastas:\n",
    "        fileTrain = 'datasets/' + datasets[i] + '-train-' + pasta + '.dat'\n",
    "        fileTest = 'datasets/' + datasets[i] + '-test-' + pasta + '.dat'\n",
    "        X_train, y_train = importaDados(fileTrain)\n",
    "        X_test, y_test = importaDados(fileTest)\n",
    "        n = X_train.shape[1]\n",
    "        rede, modelo = fit(X_train, y_train, algoritmos[i], ninters[i]*n, inter_mins[i], inter_maxs[i]+1)\n",
    "        y_hat = predict(X_test, rede, modelo)\n",
    "        msre_pastas.append(msre(y_test, y_hat))\n",
    "        coef = np.append(modelo.coef_, modelo.intercept_)\n",
    "        coef_pastas.append(coef)\n",
    "        rede_pastas.append(rede)\n",
    "    m = len(pastas)\n",
    "    msre_medio = np.sum(msre_pastas)/m\n",
    "    msre_l.append(msre_medio)\n",
    "    min_i = np.argmin(msre_pastas)\n",
    "    #print(f'{datasets[i]} {algoritmos[i]} {ninters[i]} ({inter_mins[i]} {inter_maxs[i]}) msre: {msre_medio}')\n",
    "    #print('total de coeficientes não-zeros:', np.count_nonzero(coef_pastas[min_i]))\n",
    "    coef_l.append(coef_pastas[min_i])\n",
    "    rede_l.append(rede_pastas[min_i])\n",
    "\n",
    "storeResults(dataset_l, algoritmo_l, msre_l, coef_l, rede_l, 'tests.pkl')"
   ]
  },
  {
   "cell_type": "code",
   "execution_count": 34,
   "metadata": {
    "scrolled": true
   },
   "outputs": [],
   "source": [
    "# faça esse ao invés da acima para carregar os resultados salvos\n",
    "dataset_l, algoritmo_l, msre_l, coef_l, rede_l = getResults('tests.pkl')"
   ]
  },
  {
   "cell_type": "code",
   "execution_count": 14,
   "metadata": {},
   "outputs": [],
   "source": [
    "init_printing(use_unicode=True)"
   ]
  },
  {
   "cell_type": "code",
   "execution_count": 15,
   "metadata": {},
   "outputs": [],
   "source": [
    "limiar = 1e-04"
   ]
  },
  {
   "cell_type": "code",
   "execution_count": 16,
   "metadata": {},
   "outputs": [
    {
     "name": "stdout",
     "output_type": "stream",
     "text": [
      "forestfires total de coeficientes não-zeros com limiar 0.0001 : 0\n"
     ]
    }
   ],
   "source": [
    "expr, nz = expression(rede_l[5], coef_l[5], limiar)\n",
    "print(dataset_l[5], 'total de coeficientes não-zeros com limiar', limiar, ':', nz)"
   ]
  },
  {
   "cell_type": "code",
   "execution_count": 17,
   "metadata": {},
   "outputs": [
    {
     "data": {
      "image/png": "[encoded data removed]",
      "text/latex": [
       "$$14.571774373196723$$"
      ],
      "text/plain": [
       "14.571774373196723"
      ]
     },
     "execution_count": 17,
     "metadata": {},
     "output_type": "execute_result"
    }
   ],
   "source": [
    "sympify(expr)"
   ]
  },
  {
   "cell_type": "code",
   "execution_count": 18,
   "metadata": {},
   "outputs": [
    {
     "data": {
      "text/plain": [
       "'14.571774373196723'"
      ]
     },
     "execution_count": 18,
     "metadata": {},
     "output_type": "execute_result"
    }
   ],
   "source": [
    "latex(sympify(expr))"
   ]
  },
  {
   "cell_type": "code",
   "execution_count": 35,
   "metadata": {},
   "outputs": [
    {
     "name": "stdout",
     "output_type": "stream",
     "text": [
      "airfoil\n",
      "concrete\n",
      "cpu\n",
      "energyCooling\n",
      "energyHeating\n",
      "forestfires\n",
      "towerData\n",
      "wineRed\n",
      "wineWhite\n",
      "yacht\n"
     ]
    }
   ],
   "source": [
    "for i in range(10):\n",
    "    dataset_l.append(datasets[i])\n",
    "    print(datasets[i])\n",
    "    msre_total = 0\n",
    "    for pasta in pastas:\n",
    "        fileTest = 'datasets/' + datasets[i] + '-test-' + pasta + '.dat'\n",
    "        X_test, y_test = importaDados(fileTest)\n",
    "        m, n = X_test.shape\n",
    "        y_hat = []\n",
    "        for r in range(m):\n",
    "            y_hat.append(evaluate(X_test[r], rede_l[i], coef_l[i], limiar))\n",
    "        msre_total += msre(y_test, y_hat)\n",
    "    m = len(pastas)\n",
    "    msre_medio = msre_total/m\n",
    "    msre_l.append(msre_medio)\n",
    "    expr, nz = expression(rede_l[i], coef_l[i], limiar)\n",
    "    algoritmo_l.append(f'limiar {limiar} coeficientes {nz}')\n",
    "    #print(f'{algoritmos[i]} {ninters[i]} ({inter_mins[i]} {inter_maxs[i]}) total de coeficientes não-zeros: {np.count_nonzero(coef_l[i])} msre: {msre_l[i]}')\n",
    "    #print(f'expressão com limiar: {limiar} total de coeficientes não-zeros: {nz} msre: {msre_medio}')"
   ]
  },
  {
   "cell_type": "code",
   "execution_count": 36,
   "metadata": {},
   "outputs": [
    {
     "name": "stdout",
     "output_type": "stream",
     "text": [
      "airfoil\n",
      "concrete\n",
      "cpu\n",
      "energyCooling\n",
      "energyHeating\n",
      "forestfires\n",
      "towerData\n",
      "wineRed\n",
      "wineWhite\n",
      "yacht\n"
     ]
    }
   ],
   "source": [
    "for i in range(10):\n",
    "    dataset_l.append(datasets[i])\n",
    "    print(datasets[i])\n",
    "    msre_total = 0\n",
    "    for pasta in pastas:\n",
    "        fileTest = 'datasets/' + datasets[i] + '-test-' + pasta + '.dat'\n",
    "        X_test, y_test = importaDados(fileTest)\n",
    "        m, n = X_test.shape\n",
    "        y_hat = []\n",
    "        for r in range(m):\n",
    "            y_hat.append(evaluate(X_test[r], rede_l[i], coef_l[i], 0))\n",
    "        msre_total += msre(y_test, y_hat)\n",
    "    m = len(pastas)\n",
    "    msre_medio = msre_total/m\n",
    "    msre_l.append(msre_medio)\n",
    "    expr, nz = expression(rede_l[i], coef_l[i], 0)\n",
    "    algoritmo_l.append(f'limiar 0 coeficientes {nz}')\n",
    "    #print(f'{algoritmos[i]} {ninters[i]} ({inter_mins[i]} {inter_maxs[i]}) total de coeficientes não-zeros: {np.count_nonzero(coef_l[i])} msre: {msre_l[i]}')\n",
    "    #print(f'expressão com limiar: 0 total de coeficientes não-zeros: {nz} msre: {msre_medio}')"
   ]
  },
  {
   "cell_type": "code",
   "execution_count": 37,
   "metadata": {},
   "outputs": [],
   "source": [
    "# gerar o dataframe de resultados\n",
    "df_IT = pd.DataFrame({'dataset':dataset_l, 'algoritmo':algoritmo_l, 'rmse':msre_l})"
   ]
  },
  {
   "cell_type": "code",
   "execution_count": 38,
   "metadata": {},
   "outputs": [],
   "source": [
    "# salvar o df no arquivo\n",
    "fw = open('df_IT.pkl', 'wb')\n",
    "pickle.dump(df_IT, fw)\n",
    "fw.close()"
   ]
  },
  {
   "cell_type": "code",
   "execution_count": null,
   "metadata": {},
   "outputs": [],
   "source": [
    "# carregar o df do arquivo de resultados\n",
    "fw = open('df_IT.pkl', 'rb')\n",
    "df_IT = pickle.load(fw)\n",
    "fw.close()"
   ]
  },
  {
   "cell_type": "code",
   "execution_count": 39,
   "metadata": {},
   "outputs": [],
   "source": [
    "# carregar o df do arquivo de resultados dos outros algoritmos\n",
    "fw = open('df_GS.pkl', 'rb')\n",
    "df_GS = pickle.load(fw)\n",
    "fw.close()"
   ]
  },
  {
   "cell_type": "code",
   "execution_count": 40,
   "metadata": {},
   "outputs": [],
   "source": [
    "# unir os resultados desses testes com os testes do GridSearch\n",
    "df = pd.concat([df_IT, df_GS], ignore_index=True)"
   ]
  },
  {
   "cell_type": "code",
   "execution_count": 41,
   "metadata": {
    "scrolled": false
   },
   "outputs": [
    {
     "name": "stdout",
     "output_type": "stream",
     "text": [
      "\n",
      " airfoil\n",
      "                        algoritmo  dataset      rmse\n",
      "0             lassoLars 10 (-2 2)  airfoil  3.186071\n",
      "10  limiar 0.0001 coeficientes 35  airfoil  3.373114\n",
      "20       limiar 0 coeficientes 44  airfoil  2.892753\n",
      "48                          Ridge  airfoil  4.862221\n",
      "49                          Lasso  airfoil  6.142515\n",
      "50                           Lars  airfoil  4.819300\n",
      "51                     ElasticNet  airfoil  6.169792\n",
      "52                        XGBoost  airfoil  2.186636\n",
      "53                            MLP  airfoil  4.811583\n",
      "\n",
      " concrete\n",
      "                         algoritmo   dataset       rmse\n",
      "1             lassoLars 500 (-2 2)  concrete   6.666079\n",
      "11  limiar 0.0001 coeficientes 155  concrete   8.134467\n",
      "21       limiar 0 coeficientes 171  concrete   4.897366\n",
      "66                           Ridge  concrete  10.444737\n",
      "67                           Lasso  concrete  10.446343\n",
      "68                            Lars  concrete  10.443756\n",
      "69                      ElasticNet  concrete  10.446860\n",
      "70                         XGBoost  concrete   4.750018\n",
      "71                             MLP  concrete   7.709026\n",
      "\n",
      " cpu\n",
      "                         algoritmo dataset       rmse\n",
      "2            lassoLars 1000 (-3 3)     cpu  17.225196\n",
      "12  limiar 0.0001 coeficientes 115     cpu  74.954446\n",
      "22       limiar 0 coeficientes 132     cpu   2.258656\n",
      "42                           Ridge     cpu  34.904959\n",
      "43                           Lasso     cpu  42.059112\n",
      "44                            Lars     cpu  34.546549\n",
      "45                      ElasticNet     cpu  45.780305\n",
      "46                         XGBoost     cpu  43.174502\n",
      "47                             MLP     cpu  46.735860\n",
      "\n",
      " energyCooling\n",
      "                         algoritmo        dataset      rmse\n",
      "3             lassoLars 500 (-2 2)  energyCooling  1.390665\n",
      "13  limiar 0.0001 coeficientes 175  energyCooling  2.059950\n",
      "23       limiar 0 coeficientes 176  energyCooling  0.989866\n",
      "54                           Ridge  energyCooling  3.246569\n",
      "55                           Lasso  energyCooling  4.082975\n",
      "56                            Lars  energyCooling  3.214723\n",
      "57                      ElasticNet  energyCooling  4.405209\n",
      "58                         XGBoost  energyCooling  0.787685\n",
      "59                             MLP  energyCooling  3.279283\n",
      "\n",
      " energyHeating\n",
      "                         algoritmo        dataset       rmse\n",
      "4              lassoLars 500 (0 4)  energyHeating   0.471724\n",
      "14  limiar 0.0001 coeficientes 233  energyHeating  16.742604\n",
      "24       limiar 0 coeficientes 243  energyHeating   0.320773\n",
      "78                           Ridge  energyHeating   2.970699\n",
      "79                           Lasso  energyHeating   4.235185\n",
      "80                            Lars  energyHeating   2.942069\n",
      "81                      ElasticNet  energyHeating   4.502519\n",
      "82                         XGBoost  energyHeating   0.382991\n",
      "83                             MLP  energyHeating   2.709992\n",
      "\n",
      " forestfires\n",
      "                       algoritmo      dataset       rmse\n",
      "5                lasso 10 (-2 2)  forestfires  51.936347\n",
      "15  limiar 0.0001 coeficientes 0  forestfires  51.834927\n",
      "25       limiar 0 coeficientes 1  forestfires  51.789254\n",
      "90                         Ridge  forestfires  53.223923\n",
      "91                         Lasso  forestfires  51.769355\n",
      "92                          Lars  forestfires  52.100889\n",
      "93                    ElasticNet  forestfires  51.774782\n",
      "94                       XGBoost  forestfires  52.128368\n",
      "95                           MLP  forestfires  51.835212\n",
      "\n",
      " towerData\n",
      "                         algoritmo    dataset        rmse\n",
      "6               lassoLars 10 (0 2)  towerData   30.937945\n",
      "16  limiar 0.0001 coeficientes 250  towerData  122.092180\n",
      "26       limiar 0 coeficientes 537  towerData   14.685695\n",
      "72                           Ridge  towerData   30.615898\n",
      "73                           Lasso  towerData   33.934021\n",
      "74                            Lars  towerData   30.831966\n",
      "75                      ElasticNet  towerData   43.741643\n",
      "76                         XGBoost  towerData   17.965590\n",
      "77                             MLP  towerData   18.577638\n",
      "\n",
      " wineRed\n",
      "                         algoritmo  dataset      rmse\n",
      "7             lassoLars 100 (-1 1)  wineRed  0.654898\n",
      "17   limiar 0.0001 coeficientes 43  wineRed  0.632757\n",
      "27        limiar 0 coeficientes 44  wineRed  0.631131\n",
      "96                           Ridge  wineRed  0.650684\n",
      "97                           Lasso  wineRed  0.656002\n",
      "98                            Lars  wineRed  0.650573\n",
      "99                      ElasticNet  wineRed  0.657719\n",
      "100                        XGBoost  wineRed  0.610155\n",
      "101                            MLP  wineRed  0.633289\n",
      "\n",
      " wineWhite\n",
      "                        algoritmo    dataset      rmse\n",
      "8            lassoLars 100 (-1 1)  wineWhite  0.731470\n",
      "18  limiar 0.0001 coeficientes 92  wineWhite  0.709662\n",
      "28       limiar 0 coeficientes 95  wineWhite  0.708114\n",
      "84                          Ridge  wineWhite  0.757535\n",
      "85                          Lasso  wineWhite  0.762450\n",
      "86                           Lars  wineWhite  0.755358\n",
      "87                     ElasticNet  wineWhite  0.768779\n",
      "88                        XGBoost  wineWhite  0.675934\n",
      "89                            MLP  wineWhite  0.693340\n",
      "\n",
      " yacht\n",
      "                        algoritmo dataset      rmse\n",
      "9            lassoLars 100 (-3 3)   yacht  1.340805\n",
      "19  limiar 0.0001 coeficientes 97   yacht  0.692884\n",
      "29       limiar 0 coeficientes 97   yacht  0.692884\n",
      "36                          Ridge   yacht  8.996498\n",
      "37                          Lasso   yacht  8.972195\n",
      "38                           Lars   yacht  8.983248\n",
      "39                     ElasticNet   yacht  9.067633\n",
      "40                        XGBoost   yacht  0.893999\n",
      "41                            MLP   yacht  3.580958\n"
     ]
    }
   ],
   "source": [
    "datasets = df_IT.dataset.unique()\n",
    "for D in datasets:\n",
    "    print('\\n', D)\n",
    "    print(df.loc[df['dataset'] == D])"
   ]
  },
  {
   "cell_type": "code",
   "execution_count": null,
   "metadata": {},
   "outputs": [],
   "source": []
  }
 ],
 "metadata": {
  "kernelspec": {
   "display_name": "Python 3",
   "language": "python",
   "name": "python3"
  },
  "language_info": {
   "codemirror_mode": {
    "name": "ipython",
    "version": 3
   },
   "file_extension": ".py",
   "mimetype": "text/x-python",
   "name": "python",
   "nbconvert_exporter": "python",
   "pygments_lexer": "ipython3",
   "version": "3.6.4"
  }
 },
 "nbformat": 4,
 "nbformat_minor": 2
}
