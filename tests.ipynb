{
 "cells": [
  {
   "cell_type": "code",
   "execution_count": 2,
   "metadata": {},
   "outputs": [],
   "source": [
    "import numpy as np\n",
    "import pandas as pd\n",
    "from sklearn.metrics import mean_squared_error\n",
    "from sklearn.linear_model import LassoCV, LassoLarsCV\n",
    "import warnings\n",
    "import sys\n",
    "import os\n",
    "import pickle\n",
    "# ignoramos os resultados NaN das funções pois vamnos zera-los\n",
    "np.seterr(invalid='ignore')\n",
    "# nao quero warning de convergência\n",
    "warnings.filterwarnings('ignore')"
   ]
  },
  {
   "cell_type": "code",
   "execution_count": 3,
   "metadata": {},
   "outputs": [],
   "source": [
    "def getResults(fname):\n",
    "    dataset = []\n",
    "    algoritmo = []\n",
    "    msre_l = []\n",
    "    if os.path.exists(fname):\n",
    "        fw = open(fname, 'rb')\n",
    "        dataset, algoritmo, msre_l  = pickle.load(fw)\n",
    "        fw.close()\n",
    "    return dataset, algoritmo, msre_l"
   ]
  },
  {
   "cell_type": "code",
   "execution_count": 4,
   "metadata": {},
   "outputs": [],
   "source": [
    "def storeResults(dataset, algoritmo, msre_l, fname):\n",
    "    fw = open(fname, 'wb')\n",
    "    pickle.dump((dataset, algoritmo, msre_l), fw)\n",
    "    fw.close()"
   ]
  },
  {
   "cell_type": "code",
   "execution_count": 5,
   "metadata": {},
   "outputs": [],
   "source": [
    "def msre(y_true, y_pred):\n",
    "    return np.sqrt(mean_squared_error(y_true, y_pred))"
   ]
  },
  {
   "cell_type": "code",
   "execution_count": 6,
   "metadata": {},
   "outputs": [],
   "source": [
    "def geraRede(X, n_inter, inter_min=0, inter_max=3):\n",
    "    n_inputs = X.shape[1]\n",
    "    rede = np.random.randint(inter_min, inter_max, size=(n_inputs, n_inter))\n",
    "    for i in range(0, n_inputs):\n",
    "        if 0 in X[:,i]:\n",
    "            rede[i,:] = np.absolute(rede[i,:])\n",
    "    return rede"
   ]
  },
  {
   "cell_type": "code",
   "execution_count": 7,
   "metadata": {},
   "outputs": [],
   "source": [
    "def transformData(X, rede):\n",
    "    n_rows = X.shape[0]\n",
    "    n_inter = rede.shape[1]\n",
    "    layers = np.ndarray((n_rows, 3*n_inter))\n",
    "    for i in range(0, n_inter*3, 3):\n",
    "        power = X**rede[:,int(i/3)]\n",
    "        layers[:,i] = np.prod(power,axis=1) # id\n",
    "        layers[:,i+1] = np.cos(layers[:,i]) # cos\n",
    "        layers[:,i+2] = np.sqrt(layers[:,i]) # sqrt\n",
    "    cols = np.any(np.isnan(layers), axis=0)\n",
    "    layers[:, cols] = 0\n",
    "    cols = np.any(np.isinf(layers), axis=0)\n",
    "    layers[:, cols] = 0\n",
    "    return layers"
   ]
  },
  {
   "cell_type": "code",
   "execution_count": 8,
   "metadata": {},
   "outputs": [],
   "source": [
    "def fit(X, y, algoritmo, n_inter, inter_min=0, inter_max=3):\n",
    "    n_inputs = X.shape[1]\n",
    "    rede = geraRede(X, n_inter, inter_min, inter_max)\n",
    "    X_transf = transformData(X, rede)\n",
    "    if algoritmo == 'lasso':\n",
    "        modelo = LassoCV(max_iter=5e4, cv=3)\n",
    "    elif algoritmo == 'lassoLars':\n",
    "        modelo = LassoLarsCV(max_iter=5e4, cv=3)\n",
    "    modelo.fit(X_transf, y)\n",
    "    return rede, modelo"
   ]
  },
  {
   "cell_type": "code",
   "execution_count": 9,
   "metadata": {},
   "outputs": [],
   "source": [
    "def predict(X, rede, modelo):\n",
    "    X_transf = transformData(X, rede)\n",
    "    y_hat = modelo.predict(X_transf)\n",
    "    return y_hat"
   ]
  },
  {
   "cell_type": "code",
   "execution_count": 11,
   "metadata": {},
   "outputs": [],
   "source": [
    "def test(D, algoritmo, ninter, inter_min, inter_max):\n",
    "    dataset, algoritmo_l, msre_l = getResults('tests.pkl')\n",
    "    pastas = ['0', '1', '2', '3', '4']\n",
    "    dataset.append(D)\n",
    "    algoritmo_l.append(f'{algoritmo} {ninter} ({inter_min} {inter_max})')\n",
    "    msre_total = 0\n",
    "    for pasta in pastas:\n",
    "        fileTrain = 'datasets/' + D + '-train-' + pasta + '.dat'\n",
    "        fileTest = 'datasets/' + D + '-test-' + pasta + '.dat'\n",
    "        X_train, y_train = importaDados(fileTrain)\n",
    "        X_test, y_test = importaDados(fileTest)\n",
    "        n = X_train.shape[1]\n",
    "        rede, modelo = fit(X_train, y_train, algoritmo, ninter*n, inter_min, inter_max+1)\n",
    "        y_hat = predict(X_test, rede, modelo)\n",
    "        msre_total += msre(y_test, y_hat)\n",
    "    m = len(pastas)\n",
    "    msre_medio = msre_total/m\n",
    "    msre_l.append(msre_medio)\n",
    "    storeResults(dataset, algoritmo_l, msre_l, 'tests.pkl')\n",
    "    with open('tests.txt', 'a') as myfile:\n",
    "        myfile.write(f'{D},{algoritmo} {ninter} ({inter_min} {inter_max}),{msre_medio}\\n')\n",
    "    print(f'{D},{algoritmo} {ninter} ({inter_min} {inter_max}),{msre_medio}')"
   ]
  },
  {
   "cell_type": "code",
   "execution_count": null,
   "metadata": {
    "collapsed": true
   },
   "outputs": [],
   "source": [
    "# faça esse somente para rodar todos os testes novamente\n",
    "#datasets = ['airfoil', 'concrete', 'cpu', 'energyCooling', 'energyHeating', 'forestfires', 'towerData', 'wineRed', 'wineWhite', 'yacht']\n",
    "#algoritmos = ['lassoLars', 'lassoLars', 'lassoLars', 'lassoLars', 'lassoLars', 'lasso', 'lassoLars', 'lassoLars', 'lassoLars', 'lassoLars']\n",
    "#ninters = [10, 500, 1000, 500, 500, 10, 10, 100, 100, 100]\n",
    "#inter_mins = [-2, -2, -3, -2, 0, -2, 0, -1, -1, -3]\n",
    "#inter_maxs = [2, 2, 3, 2, 4, 2, 2, 1, 1, 3]\n",
    "#for i in range(10):\n",
    "#    test(datasets[i], algoritmos[i], ninters[i], inter_mins[i], inter_maxs[i])"
   ]
  },
  {
   "cell_type": "code",
   "execution_count": 16,
   "metadata": {},
   "outputs": [],
   "source": [
    "# carregar os resultados dos testes do arquivo e gerar o dataframe de resultados\n",
    "#dataset, algoritmo_l, msre_l = getResults('tests.pkl')\n",
    "#df_IT = pd.DataFrame({'dataset':dataset, 'algoritmo':algoritmo_l, 'rmse':msre_l})\n",
    "# salvar o df no arquivo\n",
    "#fw = open('df_IT.pkl', 'wb')\n",
    "#pickle.dump(df_IT, fw)\n",
    "#fw.close()"
   ]
  },
  {
   "cell_type": "code",
   "execution_count": 17,
   "metadata": {},
   "outputs": [],
   "source": [
    "# carregar o df do arquivo de resultados\n",
    "fw = open('df_IT.pkl', 'rb')\n",
    "df_IT = pickle.load(fw)\n",
    "fw.close()"
   ]
  },
  {
   "cell_type": "code",
   "execution_count": 18,
   "metadata": {},
   "outputs": [],
   "source": [
    "# carregar o df do arquivo de resultados dos outros algoritmos\n",
    "fw = open('df_GS.pkl', 'rb')\n",
    "df_GS = pickle.load(fw)\n",
    "fw.close()"
   ]
  },
  {
   "cell_type": "code",
   "execution_count": 19,
   "metadata": {},
   "outputs": [],
   "source": [
    "df = pd.concat([df_IT, df_GS], ignore_index=True)"
   ]
  },
  {
   "cell_type": "code",
   "execution_count": 20,
   "metadata": {},
   "outputs": [
    {
     "name": "stdout",
     "output_type": "stream",
     "text": [
      "\n",
      " airfoil\n",
      "              algoritmo  dataset      rmse\n",
      "0   lassoLars 10 (-2 2)  airfoil  2.831519\n",
      "16                Ridge  airfoil  4.862221\n",
      "17                Lasso  airfoil  6.142515\n",
      "18                 Lars  airfoil  4.819300\n",
      "19           ElasticNet  airfoil  6.169792\n",
      "20              XGBoost  airfoil  2.186777\n",
      "21                  MLP  airfoil  4.836487\n",
      "\n",
      " concrete\n",
      "               algoritmo   dataset       rmse\n",
      "1   lassoLars 500 (-2 2)  concrete   9.342848\n",
      "40                 Ridge  concrete  10.444737\n",
      "41                 Lasso  concrete  10.446343\n",
      "42                  Lars  concrete  10.443756\n",
      "43            ElasticNet  concrete  10.446860\n",
      "44               XGBoost  concrete   4.758625\n",
      "45                   MLP  concrete   7.686262\n",
      "\n",
      " cpu\n",
      "                algoritmo dataset       rmse\n",
      "2   lassoLars 1000 (-3 3)     cpu  21.160806\n",
      "64                  Ridge     cpu  34.904959\n",
      "65                  Lasso     cpu  42.059112\n",
      "66                   Lars     cpu  34.546549\n",
      "67             ElasticNet     cpu  45.780305\n",
      "68                XGBoost     cpu  54.618222\n",
      "69                    MLP     cpu  45.266289\n",
      "\n",
      " energyCooling\n",
      "               algoritmo        dataset      rmse\n",
      "3   lassoLars 500 (-2 2)  energyCooling  1.443764\n",
      "46                 Ridge  energyCooling  3.246569\n",
      "47                 Lasso  energyCooling  4.082975\n",
      "48                  Lars  energyCooling  3.214723\n",
      "49            ElasticNet  energyCooling  4.405209\n",
      "50               XGBoost  energyCooling  0.813120\n",
      "51                   MLP  energyCooling  3.254128\n",
      "\n",
      " energyHeating\n",
      "              algoritmo        dataset      rmse\n",
      "4   lassoLars 500 (0 4)  energyHeating  0.580346\n",
      "22                Ridge  energyHeating  2.970699\n",
      "23                Lasso  energyHeating  4.235185\n",
      "24                 Lars  energyHeating  2.942069\n",
      "25           ElasticNet  energyHeating  4.502519\n",
      "26              XGBoost  energyHeating  0.382823\n",
      "27                  MLP  energyHeating  2.842564\n",
      "\n",
      " forestfires\n",
      "          algoritmo      dataset       rmse\n",
      "5   lasso 10 (-2 2)  forestfires  55.817629\n",
      "76            Ridge  forestfires  53.223923\n",
      "77            Lasso  forestfires  51.769355\n",
      "78             Lars  forestfires  52.100889\n",
      "79       ElasticNet  forestfires  51.774782\n",
      "80          XGBoost  forestfires  52.130001\n",
      "81              MLP  forestfires  51.891354\n",
      "\n",
      " towerData\n",
      "             algoritmo    dataset       rmse\n",
      "6   lassoLars 10 (0 2)  towerData  33.654479\n",
      "34               Ridge  towerData  30.615898\n",
      "35               Lasso  towerData  33.934021\n",
      "36                Lars  towerData  30.831966\n",
      "37          ElasticNet  towerData  43.741643\n",
      "38             XGBoost  towerData  18.004140\n",
      "39                 MLP  towerData  18.624850\n",
      "\n",
      " wineRed\n",
      "               algoritmo  dataset      rmse\n",
      "7   lassoLars 100 (-1 1)  wineRed  0.646443\n",
      "28                 Ridge  wineRed  0.650684\n",
      "29                 Lasso  wineRed  0.656002\n",
      "30                  Lars  wineRed  0.650573\n",
      "31            ElasticNet  wineRed  0.657719\n",
      "32               XGBoost  wineRed  0.607601\n",
      "33                   MLP  wineRed  0.639847\n",
      "\n",
      " wineWhite\n",
      "               algoritmo    dataset      rmse\n",
      "8   lassoLars 100 (-1 1)  wineWhite  0.731736\n",
      "58                 Ridge  wineWhite  0.757535\n",
      "59                 Lasso  wineWhite  0.762450\n",
      "60                  Lars  wineWhite  0.755358\n",
      "61            ElasticNet  wineWhite  0.768779\n",
      "62               XGBoost  wineWhite  0.676050\n",
      "63                   MLP  wineWhite  0.696778\n",
      "\n",
      " yacht\n",
      "               algoritmo dataset      rmse\n",
      "9   lassoLars 100 (-3 3)   yacht  1.384826\n",
      "10                 Ridge   yacht  8.996498\n",
      "11                 Lasso   yacht  8.972195\n",
      "12                  Lars   yacht  8.983248\n",
      "13            ElasticNet   yacht  9.067633\n",
      "14               XGBoost   yacht  0.868652\n",
      "15                   MLP   yacht  3.330309\n"
     ]
    }
   ],
   "source": [
    "datasets = df_IT.dataset.unique()\n",
    "for D in datasets:\n",
    "    print('\\n', D)\n",
    "    print(df.loc[df['dataset'] == D])"
   ]
  },
  {
   "cell_type": "code",
   "execution_count": null,
   "metadata": {},
   "outputs": [],
   "source": []
  }
 ],
 "metadata": {
  "kernelspec": {
   "display_name": "Python 3",
   "language": "python",
   "name": "python3"
  },
  "language_info": {
   "codemirror_mode": {
    "name": "ipython",
    "version": 3
   },
   "file_extension": ".py",
   "mimetype": "text/x-python",
   "name": "python",
   "nbconvert_exporter": "python",
   "pygments_lexer": "ipython3",
   "version": "3.6.4"
  }
 },
 "nbformat": 4,
 "nbformat_minor": 2
}
